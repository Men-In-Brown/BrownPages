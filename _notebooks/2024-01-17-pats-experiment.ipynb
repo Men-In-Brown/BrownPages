{
 "cells": [
  {
   "cell_type": "markdown",
   "metadata": {},
   "source": [
    "---\n",
    "toc: true\n",
    "comments: true\n",
    "layout: notebook\n",
    "title: PATs Java Experiment\n",
    "description: Using personal access tokens to make our first iteration of our Ideas system (by Varaprasad)\n",
    "type: tangibles\n",
    "permalink: /pats-idea-experiment\n",
    "---"
   ]
  },
  {
   "cell_type": "markdown",
   "metadata": {},
   "source": [
    "# PATs\n",
    "\n",
    "We can create PATs using a big integer, and PATs can be sued for remove access as opposed to an OTP. An OTP would have to be different, while a PAT can be issues as soon as the user is created and there by be kept consistent. Which one we'll use is up to the decision of the team overall at the start of next week."
   ]
  },
  {
   "cell_type": "code",
   "execution_count": 9,
   "metadata": {
    "vscode": {
     "languageId": "java"
    }
   },
   "outputs": [
    {
     "name": "stdout",
     "output_type": "stream",
     "text": [
      "Generated PAT: 42481c961d5d228c93a99e862b1f4201\n",
      "Generated PAT: 21f038fe7c42cfd2a404692cd71991c2\n",
      "Generated PAT: b2d7072c2d0bad660752b92f7bdb42fa\n",
      "Generated PAT: 19e00960f52207b2147b49a3bc917c94\n",
      "Generated PAT: aa9d08ca005dac7ce7326e50617facb8\n",
      "Generated PAT: 492dfb45d03a69160de71a5ce6864763\n",
      "Generated PAT: e99d5bc3d0204c7af44f60f860529f93\n",
      "Generated PAT: fe17d49a691bc3a5aa697e4e104802c1\n",
      "Generated PAT: 245beb3f46b6b9be731cf1f5310264b2\n",
      "Generated PAT: 43bcd6a145d820f1ca2d53a2265d09a9\n"
     ]
    }
   ],
   "source": [
    "import java.security.SecureRandom;\n",
    "import java.math.BigInteger;\n",
    "import java.util.ArrayList;\n",
    "\n",
    "public class PATExperiment {\n",
    "\n",
    "    public static String generateUniqueToken(int length) {\n",
    "        SecureRandom secureRandom = new SecureRandom();\n",
    "        byte[] randomBytes = new byte[length / 2];\n",
    "        secureRandom.nextBytes(randomBytes);\n",
    "        BigInteger bigInteger = new BigInteger(1, randomBytes);\n",
    "        String token = bigInteger.toString(16);\n",
    "\n",
    "        // Ensure the token has the specified length\n",
    "        while (token.length() < length) {\n",
    "            token = \"0\" + token;\n",
    "        }\n",
    "\n",
    "        return token;\n",
    "    }\n",
    "\n",
    "    public static void main(String[] args) {\n",
    "        // Example: Generate a unique token of length 32\n",
    "        ArrayList<String> PATs = new ArrayList<>();\n",
    "\n",
    "        for(int i = 0; i < 10; i++){\n",
    "            String pat = generateUniqueToken(32);\n",
    "            System.out.println(\"Generated PAT: \" + pat);\n",
    "            PATs.add(pat); // we can then store the PAT. Thi\n",
    "        }\n",
    "        \n",
    "    }\n",
    "}\n",
    "PATExperiment.main(null)"
   ]
  },
  {
   "cell_type": "markdown",
   "metadata": {},
   "source": [
    "# One-Time Passwords\n",
    "\n",
    "One time passwords can be shorter, easily sent, and can probably fulfill more of the requirements. However it can by system intensive to send out a ton of OTP is people are waiting."
   ]
  },
  {
   "cell_type": "code",
   "execution_count": 4,
   "metadata": {
    "vscode": {
     "languageId": "java"
    }
   },
   "outputs": [
    {
     "name": "stdout",
     "output_type": "stream",
     "text": [
      "Generated Unique OTPs:\n",
      "8923430\n",
      "7755135\n",
      "12656019\n",
      "5184962\n",
      "14805371\n",
      "9338128\n",
      "3964740\n",
      "16455686\n",
      "3866514\n",
      "13154224\n"
     ]
    }
   ],
   "source": [
    "import java.security.SecureRandom;\n",
    "import java.math.BigInteger;\n",
    "import java.util.HashSet;\n",
    "import java.util.Set;\n",
    "\n",
    "public class OTPGenerator {\n",
    "\n",
    "    public static String generateOTP(int length) {\n",
    "        SecureRandom secureRandom = new SecureRandom();\n",
    "        byte[] randomBytes = new byte[length / 2];\n",
    "        secureRandom.nextBytes(randomBytes);\n",
    "        BigInteger bigInteger = new BigInteger(1, randomBytes);\n",
    "        String otp = bigInteger.toString(10);\n",
    "\n",
    "        // Ensure the OTP has the specified length\n",
    "        while (otp.length() < length) {\n",
    "            otp = \"0\" + otp;\n",
    "        }\n",
    "\n",
    "        return otp;\n",
    "    }\n",
    "\n",
    "    public static Set<String> generateUniqueOTPs(int count, int length) {\n",
    "        Set<String> uniqueOTPs = new HashSet<>();\n",
    "\n",
    "        while (uniqueOTPs.size() < count) {\n",
    "            String otp = generateOTP(length);\n",
    "            uniqueOTPs.add(otp);\n",
    "        }\n",
    "\n",
    "        return uniqueOTPs;\n",
    "    }\n",
    "\n",
    "    public static void main(String[] args) {\n",
    "        Set<String> uniqueOTPs = generateUniqueOTPs(10, 6); // TODO: need to fix why we have not a 6-int APT\n",
    "\n",
    "        System.out.println(\"Generated Unique OTPs:\");\n",
    "        for (String otp : uniqueOTPs) {\n",
    "            System.out.println(otp); \n",
    "        }\n",
    "    }\n",
    "}\n",
    "\n",
    "OTPGenerator.main(null);"
   ]
  }
 ],
 "metadata": {
  "kernelspec": {
   "display_name": "Java",
   "language": "java",
   "name": "java"
  },
  "language_info": {
   "codemirror_mode": "java",
   "file_extension": ".jshell",
   "mimetype": "text/x-java-source",
   "name": "Java",
   "pygments_lexer": "java",
   "version": "20.0.2+9-78"
  }
 },
 "nbformat": 4,
 "nbformat_minor": 2
}
