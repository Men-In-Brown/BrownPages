{
 "cells": [
  {
   "cell_type": "markdown",
   "metadata": {},
   "source": [
    "---\n",
    "toc: true\n",
    "comments: true\n",
    "layout: notebook\n",
    "title: HashMap Java Experiment\n",
    "description: Using the HashMap lesson to make our first iteration of our Ideas system.\n",
    "type: tangibles\n",
    "permalink: /hashmap-idea-experiment\n",
    "---"
   ]
  },
  {
   "cell_type": "code",
   "execution_count": 2,
   "metadata": {
    "vscode": {
     "languageId": "java"
    }
   },
   "outputs": [
    {
     "name": "stdout",
     "output_type": "stream",
     "text": [
      "Idea1 Details:\n",
      "Name: Idea1\n",
      "Description: Description for Idea1\n",
      "Date: 2024-01-22\n",
      "\n",
      "Idea2 Details:\n",
      "Name: Idea2\n",
      "Description: Description for Idea2\n",
      "Date: 2024-01-23\n"
     ]
    }
   ],
   "source": [
    "import java.util.HashMap;\n",
    "\n",
    "class Idea {\n",
    "    private String name;\n",
    "    private String description;\n",
    "    private String date;\n",
    "\n",
    "    public Idea(String name, String description, String date) {\n",
    "        this.name = name;\n",
    "        this.description = description;\n",
    "        this.date = date;\n",
    "    }\n",
    "\n",
    "    public String getName() {\n",
    "        return name;\n",
    "    }\n",
    "\n",
    "    public String getDescription() {\n",
    "        return description;\n",
    "    }\n",
    "\n",
    "    public String getDate() {\n",
    "        return date;\n",
    "    }\n",
    "}\n",
    "\n",
    "class IdeaRegister {\n",
    "    private HashMap<String, Idea> ideaMap;\n",
    "\n",
    "    public IdeaRegister() {\n",
    "        this.ideaMap = new HashMap<>();\n",
    "    }\n",
    "\n",
    "    public void registerIdea(String name, String description, String date) {\n",
    "        Idea newIdea = new Idea(name, description, date);\n",
    "        ideaMap.put(name, newIdea);\n",
    "    }\n",
    "\n",
    "    public Idea getIdea(String name) {\n",
    "        return ideaMap.get(name);\n",
    "    }\n",
    "}\n",
    "\n",
    "public class Main {\n",
    "    public static void main(String[] args) {\n",
    "        // Instantiate IdeaRegister\n",
    "        IdeaRegister ideaRegister = new IdeaRegister();\n",
    "\n",
    "        // Register new ideas\n",
    "        ideaRegister.registerIdea(\"Idea1\", \"Description for Idea1\", \"2024-01-22\");\n",
    "        ideaRegister.registerIdea(\"Idea2\", \"Description for Idea2\", \"2024-01-23\");\n",
    "\n",
    "        // Get and print idea details\n",
    "        Idea idea1 = ideaRegister.getIdea(\"Idea1\");\n",
    "        Idea idea2 = ideaRegister.getIdea(\"Idea2\");\n",
    "\n",
    "        System.out.println(\"Idea1 Details:\");\n",
    "        System.out.println(\"Name: \" + idea1.getName());\n",
    "        System.out.println(\"Description: \" + idea1.getDescription());\n",
    "        System.out.println(\"Date: \" + idea1.getDate());\n",
    "        System.out.println();\n",
    "\n",
    "        System.out.println(\"Idea2 Details:\");\n",
    "        System.out.println(\"Name: \" + idea2.getName());\n",
    "        System.out.println(\"Description: \" + idea2.getDescription());\n",
    "        System.out.println(\"Date: \" + idea2.getDate());\n",
    "    }\n",
    "}\n",
    "Main.main(null);"
   ]
  }
 ],
 "metadata": {
  "kernelspec": {
   "display_name": "Java",
   "language": "java",
   "name": "java"
  },
  "language_info": {
   "codemirror_mode": "java",
   "file_extension": ".jshell",
   "mimetype": "text/x-java-source",
   "name": "Java",
   "pygments_lexer": "java",
   "version": "17.0.8.1+1-Ubuntu-0ubuntu120.04"
  }
 },
 "nbformat": 4,
 "nbformat_minor": 2
}
