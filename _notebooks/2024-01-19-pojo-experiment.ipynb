{
 "cells": [
  {
   "cell_type": "markdown",
   "metadata": {},
   "source": [
    "---\n",
    "toc: true\n",
    "comments: true\n",
    "layout: notebook\n",
    "title: POJOs Java Experiment\n",
    "description: Using the POJOs and roles lesson to make our first iteration of our Ideas system.\n",
    "type: tangibles\n",
    "permalink: /hashmap-idea-experiment\n",
    "---"
   ]
  },
  {
   "cell_type": "code",
   "execution_count": 1,
   "metadata": {
    "vscode": {
     "languageId": "java"
    }
   },
   "outputs": [
    {
     "name": "stdout",
     "output_type": "stream",
     "text": [
      "Idea1 Details:\n",
      "Idea{name='Idea1', description='Description for Idea1', date='2024-01-22'}\n",
      "\n",
      "Idea2 Details:\n",
      "Idea{name='Idea2', description='Description for Idea2', date='2024-01-23'}\n"
     ]
    }
   ],
   "source": [
    "import java.util.HashMap;\n",
    "\n",
    "class Idea {\n",
    "    private String name;\n",
    "    private String description;\n",
    "    private String date;\n",
    "\n",
    "    public Idea() {}\n",
    "\n",
    "    public Idea(String name, String description, String date) {\n",
    "        this.name = name;\n",
    "        this.description = description;\n",
    "        this.date = date;\n",
    "    }\n",
    "\n",
    "    public String getName() {\n",
    "        return name;\n",
    "    }\n",
    "\n",
    "    public void setName(String name) {\n",
    "        this.name = name;\n",
    "    }\n",
    "\n",
    "    public String getDescription() {\n",
    "        return description;\n",
    "    }\n",
    "\n",
    "    public void setDescription(String description) {\n",
    "        this.description = description;\n",
    "    }\n",
    "\n",
    "    public String getDate() {\n",
    "        return date;\n",
    "    }\n",
    "\n",
    "    public void setDate(String date) {\n",
    "        this.date = date;\n",
    "    }\n",
    "\n",
    "    @Override\n",
    "    public String toString() {\n",
    "        return \"Idea{\" +\n",
    "                \"name='\" + name + '\\'' +\n",
    "                \", description='\" + description + '\\'' +\n",
    "                \", date='\" + date + '\\'' +\n",
    "                '}';\n",
    "    }\n",
    "}\n",
    "\n",
    "class IdeaRegister {\n",
    "    private HashMap<String, Idea> ideaMap;\n",
    "\n",
    "    public IdeaRegister() {\n",
    "        this.ideaMap = new HashMap<>();\n",
    "    }\n",
    "\n",
    "    public void registerIdea(Idea idea) {\n",
    "        ideaMap.put(idea.getName(), idea);\n",
    "    }\n",
    "\n",
    "    public Idea getIdea(String name) {\n",
    "        return ideaMap.get(name);\n",
    "    }\n",
    "}\n",
    "\n",
    "public class Main {\n",
    "    public static void main(String[] args) {\n",
    "        IdeaRegister ideaRegister = new IdeaRegister();\n",
    "\n",
    "        Idea idea1 = new Idea(\"Idea1\", \"Description for Idea1\", \"2024-01-22\");\n",
    "        Idea idea2 = new Idea(\"Idea2\", \"Description for Idea2\", \"2024-01-23\");\n",
    "\n",
    "        ideaRegister.registerIdea(idea1);\n",
    "        ideaRegister.registerIdea(idea2);\n",
    "\n",
    "        Idea retrievedIdea1 = ideaRegister.getIdea(\"Idea1\");\n",
    "        Idea retrievedIdea2 = ideaRegister.getIdea(\"Idea2\");\n",
    "\n",
    "        System.out.println(\"Idea1 Details:\");\n",
    "        System.out.println(retrievedIdea1);\n",
    "        System.out.println();\n",
    "\n",
    "        System.out.println(\"Idea2 Details:\");\n",
    "        System.out.println(retrievedIdea2);\n",
    "    }\n",
    "}\n",
    "Main.main(null);"
   ]
  }
 ],
 "metadata": {
  "kernelspec": {
   "display_name": "Java",
   "language": "java",
   "name": "java"
  },
  "language_info": {
   "codemirror_mode": "java",
   "file_extension": ".jshell",
   "mimetype": "text/x-java-source",
   "name": "Java",
   "pygments_lexer": "java",
   "version": "17.0.8.1+1-Ubuntu-0ubuntu120.04"
  }
 },
 "nbformat": 4,
 "nbformat_minor": 2
}
