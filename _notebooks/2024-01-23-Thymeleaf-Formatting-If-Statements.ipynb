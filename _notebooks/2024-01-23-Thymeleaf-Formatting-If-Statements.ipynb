{
 "cells": [
  {
   "cell_type": "markdown",
   "metadata": {},
   "source": [
    "---\n",
    "toc: true\n",
    "comments: true\n",
    "layout: post\n",
    "title: Thymeleaf Formatting & If Statements\n",
    "description: Soham - formatting with Thymeleaf and if statements (jokes API)\n",
    "type: tangibles\n",
    "permalink: /formatting-ifstatements\n",
    "---"
   ]
  },
  {
   "cell_type": "markdown",
   "metadata": {},
   "source": [
    "## Thymeleaf Formatting\n",
    "- Thymeleaf provides various formatting options to display data in a more human-readable way. These options include date and number formatting. Let's explore date formatting as an example.\n",
    "\n",
    "### Date Formatting\n",
    "- Thymeleaf allows you to format dates using the `th:format` attribute. Here's an example:"
   ]
  },
  {
   "cell_type": "code",
   "execution_count": null,
   "metadata": {
    "vscode": {
     "languageId": "html"
    }
   },
   "outputs": [],
   "source": [
    "<html xmlns:th=\"http://www.thymeleaf.org\">\n",
    "<head>\n",
    "    <title>Thymeleaf Date Formatting</title>\n",
    "</head>\n",
    "<body>\n",
    "    <h1>Date Formatting Example</h1>\n",
    "    \n",
    "    <p>Current Date: <span th:text=\"${#dates.format(#dates.createNow(), 'dd-MM-yyyy')}\"></span></p>\n",
    "</body>\n",
    "</html>"
   ]
  },
  {
   "cell_type": "markdown",
   "metadata": {},
   "source": [
    "- In this example, the `#dates.createNow()` method creates the current date, and `#dates.format` is used to format it as 'dd-MM-yyyy'. Adjust the format pattern based on your requirements.\n",
    "\n",
    "## Thymeleaf If Statements\n",
    "- Thymeleaf supports conditional rendering using if statements. You can use th:if to conditionally include or exclude elements from the rendered HTML.\n",
    "\n",
    "### Basic If Statement"
   ]
  },
  {
   "cell_type": "code",
   "execution_count": null,
   "metadata": {
    "vscode": {
     "languageId": "html"
    }
   },
   "outputs": [],
   "source": [
    "<html xmlns:th=\"http://www.thymeleaf.org\">\n",
    "<head>\n",
    "    <title>Thymeleaf If Statement</title>\n",
    "</head>\n",
    "<body>\n",
    "    <h1>Thymeleaf If Statement Example</h1>\n",
    "    \n",
    "    <p th:if=\"${condition}\">This paragraph is displayed when the condition is true.</p>\n",
    "    <p th:unless=\"${condition}\">This paragraph is displayed when the condition is false.</p>\n",
    "</body>\n",
    "</html>"
   ]
  },
  {
   "cell_type": "markdown",
   "metadata": {},
   "source": [
    "- Replace `${condition}` with your actual condition. The `th:if` attribute includes the element when the condition is true, and `th:unless` includes it when the condition is false.\n",
    "\n",
    "### If-Else Statement\n",
    "- Thymeleaf also supports if-else statements using `th:if` and `th:else`."
   ]
  },
  {
   "cell_type": "code",
   "execution_count": null,
   "metadata": {
    "vscode": {
     "languageId": "html"
    }
   },
   "outputs": [],
   "source": [
    "<html xmlns:th=\"http://www.thymeleaf.org\">\n",
    "<head>\n",
    "    <title>Thymeleaf If-Else Statement</title>\n",
    "</head>\n",
    "<body>\n",
    "    <h1>Thymeleaf If-Else Statement Example</h1>\n",
    "    \n",
    "    <p th:if=\"${condition}\">This paragraph is displayed when the condition is true.</p>\n",
    "    <p th:else>This paragraph is displayed when the condition is false.</p>\n",
    "</body>\n",
    "</html>"
   ]
  },
  {
   "cell_type": "markdown",
   "metadata": {},
   "source": [
    "- Adjust the conditions and messages based on your specific use case."
   ]
  }
 ],
 "metadata": {
  "language_info": {
   "name": "python"
  }
 },
 "nbformat": 4,
 "nbformat_minor": 2
}
