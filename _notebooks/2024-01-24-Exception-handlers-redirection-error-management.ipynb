{
 "cells": [
  {
   "cell_type": "markdown",
   "metadata": {},
   "source": [
    "# Exception Handlers"
   ]
  },
  {
   "cell_type": "code",
   "execution_count": null,
   "metadata": {
    "vscode": {
     "languageId": "java"
    }
   },
   "outputs": [],
   "source": [
    "@ControllerAdvice\n",
    "public class ExceptionHandler {\n",
    "\n",
    "    @ExceptionHandler(value = Exception.class)\n",
    "    public String defaultErrorHandler(HttpServletRequest req, Exception e) throws Exception {\n",
    "        return \"error\"; // Returns 'error.html' Thymeleaf template\n",
    "    }\n",
    "}"
   ]
  },
  {
   "cell_type": "markdown",
   "metadata": {},
   "source": [
    "- @ControllerAdvice classes can handle exceptions across multiple controllers\n",
    "- The @ExceptionHandler(value = Exception.class) method runs when an exception is thrown and the contents return an error thymeleaf template"
   ]
  },
  {
   "cell_type": "markdown",
   "metadata": {},
   "source": [
    "# Redirection\n",
    "\n",
    "Redirection allows you to redirect users to a new page. This is particularly useful which will be covered in detail later. \n",
    "\n",
    "This is all going to be covered more but we can in essence change \"error\" to redirect user's to a login page or whatever is necessary upon certain errors."
   ]
  },
  {
   "cell_type": "markdown",
   "metadata": {},
   "source": [
    "# Error management\n",
    "\n",
    "Thymeleaf provides some easy ways to display error messages originating from a Spring-based back-end application. \n",
    "\n",
    "You need to have specified what each field requires for field errors."
   ]
  },
  {
   "cell_type": "code",
   "execution_count": null,
   "metadata": {
    "vscode": {
     "languageId": "java"
    }
   },
   "outputs": [],
   "source": [
    "import javax.validation.constraints.*;\n",
    "\n",
    "public class User {\n",
    "\n",
    "    @NotEmpty(message = \"Username is required.\")\n",
    "    @Size(min = 2, max = 30, message = \"Username must be between 2 and 30 characters.\")\n",
    "    private String username;\n",
    "\n",
    "    @NotEmpty(message = \"Password is required.\")\n",
    "    @Size(min = 8, message = \"Password must be at least 8 characters.\")\n",
    "    private String password;\n",
    "}\n"
   ]
  },
  {
   "cell_type": "markdown",
   "metadata": {},
   "source": [
    "Displaying errors on the frontend\n",
    "\n",
    "> This code checks if there are any errors and if so iterates and displays them."
   ]
  },
  {
   "cell_type": "code",
   "execution_count": null,
   "metadata": {
    "vscode": {
     "languageId": "java"
    }
   },
   "outputs": [],
   "source": [
    "<div th:if=\"${#fields.hasErrors('*')}\">\n",
    "    <p th:each=\"err : ${#fields.errors('*')}\" th:text=\"${err}\"></p>\n",
    "</div>"
   ]
  },
  {
   "cell_type": "markdown",
   "metadata": {},
   "source": [
    "Field Errors: A field error checks the contents of a field against specified conditions from the previous section. For example, this is useful to make sure user's submit a valid email."
   ]
  },
  {
   "cell_type": "code",
   "execution_count": null,
   "metadata": {
    "vscode": {
     "languageId": "html"
    }
   },
   "outputs": [],
   "source": [
    "<form action=\"#\" th:action=\"@{/submit}\" th:object=\"${user}\" method=\"post\">\n",
    "    <input type=\"text\" th:field=\"*{username}\">\n",
    "    <span th:errors=\"*{username}\" class=\"error\"></span>\n",
    "    <input type=\"password\" th:field=\"*{password}\">\n",
    "    <span th:errors=\"*{password}\" class=\"error\"></span>\n",
    "    <input type=\"submit\" value=\"Submit\">\n",
    "</form>"
   ]
  },
  {
   "cell_type": "markdown",
   "metadata": {},
   "source": [
    "Notice each contains th:errors=\"*{fieldName}.\" Some useful fieldnames built into thymeleaf are"
   ]
  }
 ],
 "metadata": {
  "language_info": {
   "name": "python"
  }
 },
 "nbformat": 4,
 "nbformat_minor": 2
}
