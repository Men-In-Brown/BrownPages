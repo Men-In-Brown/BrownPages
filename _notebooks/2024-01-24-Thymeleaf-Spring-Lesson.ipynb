{
 "cells": [
  {
   "cell_type": "markdown",
   "metadata": {},
   "source": [
    "---\n",
    "toc: true\n",
    "comments: true\n",
    "layout: post\n",
    "title: Thymeleaf Admin Panel Lesson\n",
    "description: Use Thymeleaf to make a dynamic and cool page for your Admin Panel!\n",
    "type: tangibles\n",
    "---"
   ]
  },
  {
   "cell_type": "markdown",
   "metadata": {},
   "source": [
    "# Basics of Thymeleaf\n",
    "\n",
    "Thymeleaf is a spring-integrated way to easily make pages that can integrate seamlessly with API calls. It allows you to easily list out what is needed from each of your SQL tables without needing to make a direct request. An extremely beneficial aspect of thymeleaf is the ability to also create an admin panel, which allows you to perform CRUD operations. \n",
    "\n",
    "Necessary Resources:\n",
    "\n",
    "Notebook: `wget `\n",
    "Backend: `git clone https://github.com/nVarap/BackendThymeleaf.git`"
   ]
  },
  {
   "cell_type": "markdown",
   "metadata": {},
   "source": [
    "# Basic Syntax\n",
    "\n",
    "A thymeleaf based page needs two things:\n",
    "1. An HTML page in the templates (Thymeleaf + HTML + CSS)\n",
    "2. A controller for the page (Java)\n",
    "\n",
    "Having both of these work in tandem allows you to change the looks through HTML and CSS stylings, while still holding the functionality of a language such as java. Here's an example of the two working in tandem."
   ]
  },
  {
   "cell_type": "markdown",
   "metadata": {},
   "source": [
    "# Example: Jokes Thymeleaf Page\n",
    "\n",
    "This page displays all of the jokes from the jokes API, but also see if they are liked or not liked by easily checking the background. This is a good example of how thymeleaf can be used. (This example is in our backend.)\n",
    "\n",
    "## Controller\n",
    "This is the controller that does all the computation. Right now, all this does is upload and find the jokes. Later, this class can do even more and have even more functions."
   ]
  },
  {
   "cell_type": "code",
   "execution_count": null,
   "metadata": {
    "vscode": {
     "languageId": "java"
    }
   },
   "outputs": [],
   "source": [
    "package com.nighthawk.spring_portfolio.controllers;\n",
    "\n",
    "import java.util.List;\n",
    "import java.util.ArrayList;\n",
    "\n",
    "import org.springframework.beans.factory.annotation.Autowired;\n",
    "import org.springframework.stereotype.Controller;\n",
    "import org.springframework.ui.Model;\n",
    "import org.springframework.web.bind.annotation.GetMapping;\n",
    "\n",
    "import com.nighthawk.spring_portfolio.mvc.jokes.JokesJpaRepository;\n",
    "import com.nighthawk.spring_portfolio.mvc.jokes.Jokes;\n",
    "\n",
    "@Controller\n",
    "public class JokesThymeLeafController {\n",
    "\n",
    "    @Autowired\n",
    "    private JokesJpaRepository repository; // NEEDED FOR JOKES\n",
    "    // Pulls from repository\n",
    "\n",
    "    @GetMapping(\"/jokestl\") // Link you visit\n",
    "    public String jokes(Model model) { \n",
    "        // The MODEL is what can store values computed in the controller\n",
    "        List<Jokes> jokes = repository.findAll();\n",
    "        model.addAttribute(\"jokes\", jokes); // adds the jokes as a list\n",
    "        return \"thyme\"; // This corresponds to the Thymeleaf template name (src/main/resources/templates/thyme.html)\n",
    "    }   \n",
    "}"
   ]
  },
  {
   "cell_type": "markdown",
   "metadata": {},
   "source": [
    "## Template\n",
    "\n",
    "The template is the actual HTML that displays everything. This specific part demonstrates the use of a template, looping through a variable stored by the model, and then displaying certain aspects of that model. These will be explained better in the following sections, but for a start we have:\n",
    "\n",
    "1. `th:each`: effectively the for loop for thymeleaf, note the `j:${jokes}` notation, similar to a foreach loop\n",
    "2. `th:style`: the style of the section\n",
    "3. Note the use of bitwise comparisons such as ?, :, and even &/| for comparison within a style\n",
    "4. Accessing values using dot methods\n",
    "\n",
    "```html\n",
    "<!DOCTYPE html>\n",
    "<html lang=\"en\" xmlns:th=\"http://www.thymeleaf.org\"> \n",
    "\n",
    "<head>\n",
    "    <meta charset=\"UTF-8\">\n",
    "    <title>Jokes!</title>\n",
    "</head>\n",
    "\n",
    "<body style=\"background-color: aqua;\">\n",
    "    <h1> Jokes! </h1>\n",
    "    <div th:each=\"j : ${jokes}\">\n",
    "        <div th:style=\"${j.haha &gt; j.boohoo ? 'background-color: #90EE90; border: 5px solid black;' : 'background-color: #FFB3B2; border: 5px solid black;'}\">\n",
    "            <p th:text=\"${j.joke}\"></p>\n",
    "            <p>Upvotes: <span th:text=\"${j.haha}\"></span>\n",
    "            <p>Downvotes: <span th:text=\"${j.boohoo}\"></span>\n",
    "        </div>\n",
    "    </div>\n",
    "</body>\n",
    "\n",
    "</html>\n",
    "```\n",
    "\n",
    "This is a small example of what thymeleaf can do, but here's the output. \n",
    "\n",
    "\n",
    "<img width=\"1439\" alt=\"Screenshot 2023-12-17 at 11 34 42 PM\" src=\"https://github.com/nVarap/CSABlog/assets/108639268/a673921c-0dd5-4e31-98b2-406a90a2d0f9\">\n",
    "\n",
    "That's a lot with so little! Imagine even adding CRUD functionality to this! This demonstrates the sheer power of Thymeleaf.\n"
   ]
  }
 ],
 "metadata": {
  "language_info": {
   "name": "python"
  }
 },
 "nbformat": 4,
 "nbformat_minor": 2
}
