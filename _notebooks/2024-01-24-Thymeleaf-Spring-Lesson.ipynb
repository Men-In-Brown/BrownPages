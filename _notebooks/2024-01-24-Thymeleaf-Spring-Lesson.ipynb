{
 "cells": [
  {
   "cell_type": "markdown",
   "metadata": {},
   "source": [
    "---\n",
    "toc: true\n",
    "comments: true\n",
    "layout: post\n",
    "title: Thymeleaf Admin Panel Lesson\n",
    "description: Use Thymeleaf to make a dynamic and cool page for your Admin Panel!\n",
    "type: tangibles\n",
    "---"
   ]
  },
  {
   "cell_type": "markdown",
   "metadata": {},
   "source": [
    "# Basics of Thymeleaf\n",
    "\n",
    "Thymeleaf is a spring-integrated way to easily make pages that can integrate seamlessly with API calls. It allows you to easily list out what is needed from each of your SQL tables without needing to make a direct request. An extremely beneficial aspect of thymeleaf is the ability to also create an admin panel, which allows you to perform CRUD operations. \n",
    "\n",
    "Necessary Resources:\n",
    "\n",
    "Notebook: `wget `\n",
    "Backend: `git clone https://github.com/nVarap/BackendThymeleaf.git`"
   ]
  },
  {
   "cell_type": "markdown",
   "metadata": {},
   "source": [
    "# Basic Syntax\n",
    "\n",
    "A thymeleaf based page needs two things:\n",
    "1. An HTML page in the templates (Thymeleaf + HTML + CSS)\n",
    "2. A controller for the page (Java)\n",
    "\n",
    "Having both of these work in tandem allows you to change the looks through HTML and CSS stylings, while still holding the functionality of a language such as java. Here's an example of the two working in tandem."
   ]
  },
  {
   "cell_type": "markdown",
   "metadata": {},
   "source": [
    "# Example: Jokes Thymeleaf Page\n",
    "\n",
    "This page displays all of the jokes from the jokes API, but also see if they are liked or not liked by easily checking the background. This is a good example of how thymeleaf can be used. (This example is in our backend.)\n",
    "\n",
    "## Controller\n",
    "This is the controller that does all the computation. Right now, all this does is upload and find the jokes. Later, this class can do even more and have even more functions."
   ]
  },
  {
   "cell_type": "code",
   "execution_count": null,
   "metadata": {
    "vscode": {
     "languageId": "java"
    }
   },
   "outputs": [],
   "source": [
    "package com.nighthawk.spring_portfolio.controllers;\n",
    "\n",
    "import java.util.List;\n",
    "import java.util.ArrayList;\n",
    "\n",
    "import org.springframework.beans.factory.annotation.Autowired;\n",
    "import org.springframework.stereotype.Controller;\n",
    "import org.springframework.ui.Model;\n",
    "import org.springframework.web.bind.annotation.GetMapping;\n",
    "\n",
    "import com.nighthawk.spring_portfolio.mvc.jokes.JokesJpaRepository;\n",
    "import com.nighthawk.spring_portfolio.mvc.jokes.Jokes;\n",
    "\n",
    "@Controller\n",
    "public class JokesThymeLeafController {\n",
    "\n",
    "    @Autowired\n",
    "    private JokesJpaRepository repository; // NEEDED FOR JOKES\n",
    "    // Pulls from repository\n",
    "\n",
    "    @GetMapping(\"/jokestl\") // Link you visit\n",
    "    public String jokes(Model model) { \n",
    "        // The MODEL is what can store values computed in the controller\n",
    "        List<Jokes> jokes = repository.findAll();\n",
    "        model.addAttribute(\"jokes\", jokes); // adds the jokes as a list\n",
    "        return \"thyme\"; // This corresponds to the Thymeleaf template name (src/main/resources/templates/thyme.html)\n",
    "    }   \n",
    "}"
   ]
  },
  {
   "cell_type": "markdown",
   "metadata": {},
   "source": [
    "## Template\n",
    "\n",
    "The template is the actual HTML that displays everything. This specific part demonstrates the use of a template, looping through a variable stored by the model, and then displaying certain aspects of that model. These will be explained better in the following sections, but for a start we have:\n",
    "\n",
    "1. `th:each`: effectively the for loop for thymeleaf, note the `j:${jokes}` notation, similar to a foreach loop\n",
    "2. `th:style`: the style of the section\n",
    "3. Note the use of bitwise comparisons such as ?, :, and even &/| for comparison within a style\n",
    "4. Accessing values using dot methods\n",
    "\n",
    "```html\n",
    "<!DOCTYPE html>\n",
    "<html lang=\"en\" xmlns:th=\"http://www.thymeleaf.org\"> \n",
    "\n",
    "<head>\n",
    "    <meta charset=\"UTF-8\">\n",
    "    <title>Jokes!</title>\n",
    "</head>\n",
    "\n",
    "<body style=\"background-color: aqua;\">\n",
    "    <h1> Jokes! </h1>\n",
    "    <div th:each=\"j : ${jokes}\">\n",
    "        <div th:style=\"${j.haha &gt; j.boohoo ? 'background-color: #90EE90; border: 5px solid black;' : 'background-color: #FFB3B2; border: 5px solid black;'}\">\n",
    "            <p th:text=\"${j.joke}\"></p>\n",
    "            <p>Upvotes: <span th:text=\"${j.haha}\"></span>\n",
    "            <p>Downvotes: <span th:text=\"${j.boohoo}\"></span>\n",
    "        </div>\n",
    "    </div>\n",
    "</body>\n",
    "\n",
    "</html>\n",
    "```\n",
    "\n",
    "This is a small example of what thymeleaf can do, but here's the output. \n",
    "\n",
    "\n",
    "<img width=\"1439\" alt=\"Screenshot 2023-12-17 at 11 34 42 PM\" src=\"https://github.com/nVarap/CSABlog/assets/108639268/a673921c-0dd5-4e31-98b2-406a90a2d0f9\">\n",
    "\n",
    "That's a lot with so little! Imagine even adding CRUD functionality to this! This demonstrates the sheer power of Thymeleaf.\n"
   ]
  },
  {
   "cell_type": "markdown",
   "metadata": {},
   "source": [
    "## Thymeleaf Formatting\n",
    "- Thymeleaf provides various formatting options to display data in a more human-readable way. These options include date and number formatting. Let's explore date formatting as an example.\n",
    "\n",
    "### Date Formatting\n",
    "- Thymeleaf allows you to format dates using the `th:format` attribute. Here's an example:"
   ]
  },
  {
   "cell_type": "markdown",
   "metadata": {},
   "source": [
    "```html\n",
    "<html xmlns:th=\"http://www.thymeleaf.org\">\n",
    "<head>\n",
    "    <title>Thymeleaf Date Formatting</title>\n",
    "</head>\n",
    "<body>\n",
    "    <h1>Date Formatting Example</h1>\n",
    "    \n",
    "    <p>Current Date: <span th:text=\"${#dates.format(#dates.createNow(), 'dd-MM-yyyy')}\"></span></p>\n",
    "</body>\n",
    "</html>\n",
    "```"
   ]
  },
  {
   "cell_type": "markdown",
   "metadata": {},
   "source": [
    "- In this example, the `#dates.createNow()` method creates the current date, and `#dates.format` is used to format it as 'dd-MM-yyyy'. Adjust the format pattern based on your requirements.\n",
    "\n",
    "## Thymeleaf If Statements\n",
    "- Thymeleaf supports conditional rendering using if statements. You can use th:if to conditionally include or exclude elements from the rendered HTML.\n",
    "\n",
    "### Basic If Statement"
   ]
  },
  {
   "cell_type": "code",
   "execution_count": null,
   "metadata": {
    "vscode": {
     "languageId": "html"
    }
   },
   "outputs": [],
   "source": [
    "<html xmlns:th=\"http://www.thymeleaf.org\">\n",
    "<head>\n",
    "    <title>Thymeleaf If-Else Statement</title>\n",
    "</head>\n",
    "<body>\n",
    "    <h1>Thymeleaf If-Else Statement Example</h1>\n",
    "    \n",
    "    <p th:if=\"${condition}\">This paragraph is displayed when the condition is true.</p>\n",
    "    <p th:else>This paragraph is displayed when the condition is false.</p>\n",
    "</body>\n",
    "</html>"
   ]
  },
  {
   "cell_type": "markdown",
   "metadata": {},
   "source": [
    "- Replace `${condition}` with your actual condition. The `th:if` attribute includes the element when the condition is true, and `th:unless` includes it when the condition is false.\n",
    "\n",
    "### If-Else Statement\n",
    "- Thymeleaf also supports if-else statements using `th:if` and `th:else`."
   ]
  },
  {
   "cell_type": "markdown",
   "metadata": {},
   "source": [
    "# Exception Handlers\n"
   ]
  },
  {
   "cell_type": "code",
   "execution_count": null,
   "metadata": {
    "vscode": {
     "languageId": "java"
    }
   },
   "outputs": [],
   "source": [
    "@ControllerAdvice\n",
    "public class ExceptionHandler {\n",
    "\n",
    "    @ExceptionHandler(value = Exception.class)\n",
    "    public String defaultErrorHandler(HttpServletRequest req, Exception e) throws Exception {\n",
    "        return \"error\"; // Returns 'error.html' Thymeleaf template\n",
    "    }\n",
    "}"
   ]
  },
  {
   "cell_type": "markdown",
   "metadata": {},
   "source": [
    "- @ControllerAdvice classes can handle exceptions across multiple controllers\n",
    "- The @ExceptionHandler(value = Exception.class) method runs when an exception is thrown and the contents return an error thymeleaf template"
   ]
  },
  {
   "cell_type": "markdown",
   "metadata": {},
   "source": [
    "# Redirection\n",
    "\n",
    "Redirection allows you to redirect users to a new page. This is particularly useful which will be covered in detail later. \n",
    "\n",
    "This is all going to be covered more but we can in essence change \"error\" to redirect user's to a login page or whatever is necessary upon certain errors."
   ]
  },
  {
   "cell_type": "markdown",
   "metadata": {},
   "source": [
    "# Error management\n",
    "\n",
    "Thymeleaf provides some easy ways to display error messages originating from a Spring-based back-end application. \n",
    "\n",
    "You need to have specified what each field requires for field errors."
   ]
  },
  {
   "cell_type": "code",
   "execution_count": null,
   "metadata": {
    "vscode": {
     "languageId": "java"
    }
   },
   "outputs": [],
   "source": [
    "import javax.validation.constraints.*;\n",
    "\n",
    "public class User {\n",
    "\n",
    "    @NotEmpty(message = \"Username is required.\")\n",
    "    @Size(min = 2, max = 30, message = \"Username must be between 2 and 30 characters.\")\n",
    "    private String username;\n",
    "\n",
    "    @NotEmpty(message = \"Password is required.\")\n",
    "    @Size(min = 8, message = \"Password must be at least 8 characters.\")\n",
    "    private String password;\n",
    "}\n"
   ]
  },
  {
   "cell_type": "markdown",
   "metadata": {},
   "source": [
    "Displaying errors on the frontend\n",
    "\n",
    "> This code checks if there are any errors and if so iterates and displays them."
   ]
  },
  {
   "cell_type": "code",
   "execution_count": null,
   "metadata": {
    "vscode": {
     "languageId": "html"
    }
   },
   "outputs": [],
   "source": [
    "<div th:if=\"${#fields.hasErrors('*')}\">\n",
    "    <p th:each=\"err : ${#fields.errors('*')}\" th:text=\"${err}\"></p>\n",
    "</div>"
   ]
  },
  {
   "cell_type": "markdown",
   "metadata": {},
   "source": [
    "Field Errors: A field error checks the contents of a field against specified conditions from the previous section. For example, this is useful to make sure user's submit a valid email."
   ]
  },
  {
   "cell_type": "code",
   "execution_count": null,
   "metadata": {
    "vscode": {
     "languageId": "html"
    }
   },
   "outputs": [],
   "source": [
    "<form action=\"#\" th:action=\"@{/submit}\" th:object=\"${user}\" method=\"post\">\n",
    "    <input type=\"text\" th:field=\"*{username}\">\n",
    "    <span th:errors=\"*{username}\" class=\"error\"></span>\n",
    "    <input type=\"password\" th:field=\"*{password}\">\n",
    "    <span th:errors=\"*{password}\" class=\"error\"></span>\n",
    "    <input type=\"submit\" value=\"Submit\">\n",
    "</form>"
   ]
  },
  {
   "cell_type": "markdown",
   "metadata": {},
   "source": [
    "Notice each contains th:errors=\"*{fieldName}.\" Some useful fieldnames built into thymeleaf are"
   ]
  },
  {
   "cell_type": "markdown",
   "metadata": {},
   "source": [
    "### Login Redirection\n",
    "\n",
    "When it comes to login redirection and Thymeleaf, the connection lies in how you structure and render your HTML templates to handle the redirection logic. Thymeleaf allows you to handle redirection by specifying URLs or endpoints in your controller methods. When a redirection occurs, Thymeleaf takes care of generating the appropriate HTML response with the redirection information.\n",
    "\n",
    "1. **Dynamic Content with Thymeleaf:**\n",
    "   Thymeleaf is a template engine that allows you to embed dynamic content directly into your HTML templates. It uses expressions and attributes to integrate with the server-side data. In the context of login redirection, Thymeleaf enables you to conditionally display content based on the state of the application, such as whether a user is authenticated or not.\n",
    "\n",
    "   ```html\n",
    "   <!-- Display username if authenticated -->\n",
    "   <div th:if=\"${session.username}\">\n",
    "       <p>Welcome, <span th:text=\"${session.username}\"></span>!</p>\n",
    "   </div>\n",
    "   ```\n",
    "\n",
    "   Here, Thymeleaf checks if the `session.username` attribute exists (indicating authentication) and displays a welcome message with the username if true.\n",
    "\n",
    "2. **Redirection Handling in Templates:**\n",
    "   Thymeleaf allows you to handle redirection by specifying URLs or endpoints in your controller methods. When a redirection occurs, Thymeleaf takes care of generating the appropriate HTML response with the redirection information.\n",
    "\n",
    "   ```java\n",
    "   // Redirect to the home page after successful login\n",
    "   return \"redirect:/home\";\n",
    "   ```\n",
    "\n",
    "   This line in the controller method instructs Thymeleaf to redirect to the `/home` endpoint. The corresponding template for the home page (`home.html`) can then be designed using Thymeleaf to display content based on the user's authentication status.\n",
    "\n",
    "3. **Conditional Rendering in Templates:**\n",
    "   Thymeleaf makes it easy to conditionally render content based on variables or expressions. For example, you might want to show different content to authenticated and non-authenticated users.\n",
    "\n",
    "   ```html\n",
    "   <!-- Conditional rendering based on authentication status -->\n",
    "   <div th:if=\"${session.username}\">\n",
    "       <p>Welcome, <span th:text=\"${session.username}\"></span>!</p>\n",
    "       <!-- Other authenticated user content -->\n",
    "   </div>\n",
    "   <div th:unless=\"${session.username}\">\n",
    "       <p>Please log in to access the content.</p>\n",
    "       <!-- Login form or login-related content -->\n",
    "   </div>\n",
    "   ```\n",
    "\n",
    "   Here, Thymeleaf checks whether the `session.username` attribute exists. If it does, it displays a welcome message; otherwise, it prompts the user to log in.\n",
    "\n",
    "4. **Error Handling and Display:**\n",
    "   Thymeleaf can also be used to handle and display errors in your templates. For instance, when authentication fails, you can add an error message to the model, and Thymeleaf can render this message on the login page.\n",
    "\n",
    "   ```java\n",
    "   // Authentication failed, add an error message to the model\n",
    "   model.addAttribute(\"error\", \"Invalid username or password\");\n",
    "   // Redirect back to the login page\n",
    "   return \"login\";\n",
    "   ```\n",
    "\n",
    "   In the `login.html` template, you can then use Thymeleaf to conditionally display the error message.\n",
    "\n",
    "   ```html\n",
    "   <!-- Display error message if present -->\n",
    "   <div th:if=\"${error}\" style=\"color: red;\">\n",
    "       <p th:text=\"${error}\"></p>\n",
    "   </div>\n",
    "   ```\n",
    "\n",
    "   Thymeleaf's conditional rendering allows you to dynamically show or hide elements based on the existence of error messages.\n",
    "\n",
    "  ### So now here's a full example:\n"
   ]
  },
  {
   "cell_type": "code",
   "execution_count": null,
   "metadata": {
    "vscode": {
     "languageId": "java"
    }
   },
   "outputs": [],
   "source": [
    "import org.springframework.stereotype.Controller;\n",
    "import org.springframework.ui.Model;\n",
    "import org.springframework.web.bind.annotation.PostMapping;\n",
    "import org.springframework.web.bind.annotation.RequestMapping;\n",
    "import org.springframework.web.bind.annotation.RequestParam;\n",
    "\n",
    "import javax.servlet.http.HttpSession;\n",
    "\n",
    "@Controller\n",
    "public class LoginController {\n",
    "\n",
    "    @PostMapping(\"/login\")\n",
    "    public String login(@RequestParam String username,\n",
    "                        @RequestParam String password,\n",
    "                        HttpSession session,\n",
    "                        Model model) {\n",
    "        // Replace this with your actual authentication logic\n",
    "        if (\"admin\".equals(username) && \"password\".equals(password)) {\n",
    "            // Authentication successful, create a session\n",
    "            session.setAttribute(\"username\", username);\n",
    "            // Redirect to the home page after successful login\n",
    "            return \"redirect:/home\";\n",
    "        } else {\n",
    "            // Authentication failed, add an error message to the model\n",
    "            model.addAttribute(\"error\", \"Invalid username or password\");\n",
    "            // Redirect back to the login page\n",
    "            return \"login\";\n",
    "        }\n",
    "    }\n",
    "}"
   ]
  },
  {
   "cell_type": "markdown",
   "metadata": {},
   "source": [
    "\n",
    "\n",
    "In this example, we are using Spring MVC annotations along with Thymeleaf. Here's how it connects to Thymeleaf:\n",
    "\n",
    "1. **Controller Annotation:**\n",
    "   ```java\n",
    "   @Controller\n",
    "   ```\n",
    "\n",
    "   This annotation marks the class as a Spring MVC controller. It tells Spring to consider this class when handling web requests.\n",
    "\n",
    "2. **RequestMapping Annotation:**\n",
    "   ```java\n",
    "   @PostMapping(\"/login\")\n",
    "   ```\n",
    "\n",
    "   This annotation maps the `login` method to handle HTTP POST requests to the `/login` endpoint.\n",
    "\n",
    "3. **Thymeleaf Redirect:**\n",
    "   ```java\n",
    "   return \"redirect:/home\";\n",
    "   ```\n",
    "\n",
    "   This line specifies a redirect using Thymeleaf. It tells Spring to redirect to the `home` endpoint. The actual redirection URL will be resolved by the Spring MVC configuration.\n",
    "\n",
    "4. **Model Attribute for Error:**\n",
    "   ```java\n",
    "   model.addAttribute(\"error\", \"Invalid username or password\");\n",
    "   ```\n",
    "\n",
    "   If authentication fails, an error message is added to the model. This message can be displayed on the login page to inform the user about the unsuccessful login attempt.\n",
    "\n",
    "5. **Returning Template Names:**\n",
    "   The method returns strings representing the names of Thymeleaf templates. For example, `\"login\"` refers to the `login.html` template.\n",
    "\n",
    "In your Thymeleaf template (`login.html`), you can use Thymeleaf expressions to display the error message and create links or buttons for redirection.\n",
    "\n",
    "Here's a simplified example of a Thymeleaf template (`login.html`):\n",
    "\n",
    "```html\n",
    "<!DOCTYPE html>\n",
    "<html lang=\"en\" xmlns:th=\"http://www.thymeleaf.org\">\n",
    "<head>\n",
    "    <meta charset=\"UTF-8\">\n",
    "    <meta name=\"viewport\" content=\"width=device-width, initial-scale=1.0\">\n",
    "    <title>Login</title>\n",
    "</head>\n",
    "<body>\n",
    "    <h2>Login</h2>\n",
    "\n",
    "    <!-- Display error message if present -->\n",
    "    <div th:if=\"${error}\" style=\"color: red;\">\n",
    "        <p th:text=\"${error}\"></p>\n",
    "    </div>\n",
    "\n",
    "    <!-- Conditional rendering based on authentication status -->\n",
    "    <div th:if=\"${session.username}\">\n",
    "        <p>Welcome, <span th:text=\"${session.username}\"></span>!</p>\n",
    "        <!-- Other authenticated user content -->\n",
    "        <a href=\"/logout\">Logout</a>\n",
    "    </div>\n",
    "    <div th:unless=\"${session.username}\">\n",
    "        <form action=\"/login\" method=\"post\">\n",
    "            <label for=\"username\">Username:</label>\n",
    "            <input type=\"text\" id=\"username\" name=\"username\" required>\n",
    "            <br>\n",
    "            <label for=\"password\">Password:</label>\n",
    "            <input type=\"password\" id=\"password\" name=\"password\" required>\n",
    "            <br>\n",
    "            <button type=\"submit\">Login</button>\n",
    "        </form>\n",
    "    </div>\n",
    "\n",
    "</body>\n",
    "</html>\n",
    "```\n",
    "\n",
    "In this example:\n",
    "\n",
    "- The controller method sets the `error` attribute in the model if authentication fails.\n",
    "- The Thymeleaf template checks for the presence of the `error` attribute and displays an error message if it exists.\n",
    "- The template also uses Thymeleaf expressions to conditionally render content based on the existence of `session.username`. If the user is authenticated, it displays a welcome message and a logout link; otherwise, it shows the login form.\n",
    "\n",
    "Please note that the actual URLs (`/home`, `/login`, `/logout`) and styling will vary based on your specific requirements and application structure. "
   ]
  }
 ],
 "metadata": {
  "language_info": {
   "name": "python"
  }
 },
 "nbformat": 4,
 "nbformat_minor": 2
}
