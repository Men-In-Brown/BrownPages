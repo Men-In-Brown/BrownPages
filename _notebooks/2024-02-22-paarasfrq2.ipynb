{
 "cells": [
  {
   "cell_type": "markdown",
   "metadata": {},
   "source": [
    "---\n",
    "toc: true\n",
    "comments: true\n",
    "layout: notebook\n",
    "title: 2015 FRQ by Paaras Purohit - Question 2\n",
    "description: Completing the 2015 AP Computer Science A free-response questions and taking notes - Question 2\n",
    "permalink: /paaras-frq-2\n",
    "---"
   ]
  },
  {
   "cell_type": "markdown",
   "metadata": {},
   "source": [
    "# Question 2\n",
    "> Type: Classes, Array/ArrayList"
   ]
  },
  {
   "cell_type": "markdown",
   "metadata": {},
   "source": [
    "**Directions:** SHOW ALL YOUR WORK. REMEMBER THAT PROGRAM SEGMENTS ARE TO BE WRITTEN IN JAVA.\n",
    "\n",
    "**Notes:**\n",
    "\n",
    "- Assume that the classes listed in the Java Quick Reference have been imported where appropriate.\n",
    "- Unless otherwise noted in the question, assume that parameters in method calls are not null and that methods are called only when their preconditions are satisfied.\n",
    "- In writing solutions for each question, you may use any of the accessible methods that are listed in classes defined in that question. Writing significant amounts of code that can be replaced by a call to one of these methods will not receive full credit.\n",
    "\n",
    "Consider a guessing game in which a player tries to guess a hidden word. The hidden word contains only capital letters and has a length known to the player. A guess contains only capital letters and has the same length as the hidden word.\n",
    "\n",
    "After a guess is made, the player is given a hint that is based on a comparison between the hidden word and the guess. Each position in the hint contains a character that corresponds to the letter in the same position in the guess. The following rules determine the characters that appear in the hint.\n",
    "\n",
    "The HiddenWord class will be used to represent the hidden word in the game. The hidden word is passed to the constructor. The class contains a method, getHint, that takes a guess and produces a hint.\n",
    "\n",
    "For example, suppose the variable puzzle is declared as follows.\n",
    "\n",
    "HiddenWord puzzle = new HiddenWord(\"HARPS\");\n",
    "\n",
    "The following table shows several guesses and the hints that would be produced.\n",
    "\n",
    "Write the complete HiddenWord class, including any necessary instance variables, its constructor, and the method, getHint, described above. You may assume that the length of the guess is the same as the length of the hidden word."
   ]
  },
  {
   "cell_type": "markdown",
   "metadata": {},
   "source": [
    "### Skills I'm Familiar With:\n",
    "\n",
    "- Input and output\n",
    "- Treating strings as lists\n",
    "- Comparing elements between more than one list\n",
    "\n",
    "### Skills I'm Unfamiliar With:\n",
    "\n",
    "- Checking if an element exists in an array efficiently\n",
    "- Adding an element to a primitive list\n",
    "\n",
    "### Questions I Have:\n",
    "\n",
    "- May I write more methods than are required? For example, if I must write a method to swap variables if I was dealing with sorting, would I be allowed to, regardless of credit?\n",
    "- When the instructions say to write the \"complete\" class, am I also to write the main method to test the code? Or is it assumed that CollegeBoard has their own class to test the class I wrote?\n",
    "- Can I use methods such as toCharArray()? Although they are not in the Java Quick Reference, they are built-in Java methods."
   ]
  },
  {
   "cell_type": "markdown",
   "metadata": {},
   "source": [
    "### My Solution (Without Research)"
   ]
  },
  {
   "cell_type": "code",
   "execution_count": null,
   "metadata": {
    "vscode": {
     "languageId": "java"
    }
   },
   "outputs": [],
   "source": [
    "public class HiddenWord {\n",
    "\n",
    "    public String hiddenWord;\n",
    "\n",
    "    public HiddenWord(String _hiddenWord) {\n",
    "        hiddenWord = _hiddenWord;\n",
    "    }\n",
    "\n",
    "    public boolean letterExistsInBoth(char guess, String hidden) {\n",
    "        for (int i = 0; i < hidden.length; i++) {\n",
    "            if (guess == hidden[i]) {\n",
    "                return true;\n",
    "            }\n",
    "        }\n",
    "        return false;\n",
    "    }\n",
    "    \n",
    "    public String getHint(String guess) {\n",
    "        String hint = \"\";\n",
    "        for (int i = 0; i < hiddenWord.length, i++) {\n",
    "            if (guess[i] == hiddenWord[i]) {\n",
    "                hint.add(guess[i]); // I do not know the correct Java syntax for adding an element to a list\n",
    "            }\n",
    "            else if (letterExistsInBoth(guess[i], hiddenWord)) {\n",
    "                hint.add(\"+\"); // I do not know the correct Java syntax for adding an element to a list\n",
    "            }\n",
    "            else {\n",
    "                hint.add(\"*\"); // I do not know the correct Java syntax for adding an element to a list\n",
    "            }\n",
    "        }\n",
    "\n",
    "        return hint;\n",
    "    }\n",
    "}"
   ]
  },
  {
   "cell_type": "markdown",
   "metadata": {},
   "source": [
    "### My Solution (With Research)"
   ]
  },
  {
   "cell_type": "code",
   "execution_count": 1,
   "metadata": {
    "vscode": {
     "languageId": "java"
    }
   },
   "outputs": [],
   "source": [
    "public class HiddenWord {\n",
    "\n",
    "    public String hiddenWord;\n",
    "\n",
    "    public HiddenWord(String _hiddenWord) {\n",
    "        hiddenWord = _hiddenWord;\n",
    "    }\n",
    "\n",
    "    // Method to check if a letter exists in both the guess and hidden word\n",
    "    public boolean letterExistsInBoth(char guess, String hidden) {\n",
    "        for (int i = 0; i < hidden.length(); i++) {\n",
    "            if (guess == hidden.toCharArray()[i]) {\n",
    "                return true;\n",
    "            }\n",
    "        }\n",
    "        return false;\n",
    "    }\n",
    "\n",
    "    public String getHint(String guess) {\n",
    "        ArrayList<Character> hintList = new ArrayList<>();\n",
    "\n",
    "        for (int i = 0; i < hiddenWord.length(); i++) {\n",
    "            if (guess.toCharArray()[i] == hiddenWord.toCharArray()[i]) {\n",
    "                hintList.add(guess.toCharArray()[i]);\n",
    "            } else if (letterExistsInBoth(guess.toCharArray()[i], hiddenWord)) {\n",
    "                hintList.add('+');\n",
    "            } else {\n",
    "                hintList.add('*');\n",
    "            }\n",
    "        }\n",
    "\n",
    "        // Convert the ArrayList to a char array\n",
    "        char[] hintArray = new char[hintList.size()];\n",
    "        for (int i = 0; i < hintList.size(); i++) {\n",
    "            hintArray[i] = hintList.get(i);\n",
    "        }\n",
    "\n",
    "        // Convert the char array to a String and return\n",
    "        return new String(hintArray);\n",
    "    }\n",
    "}\n",
    "\n",
    "/* KEY ALGORITHM\n",
    "\n",
    " The key algorithm here is manipulating an ArrayList through its built-in methods, which effectively completes the understanding of the type of FRQ it is, Array/ArrayList.\n",
    "  \n",
    "*/"
   ]
  },
  {
   "cell_type": "markdown",
   "metadata": {},
   "source": [
    "### To Test My Code"
   ]
  },
  {
   "cell_type": "code",
   "execution_count": 3,
   "metadata": {
    "vscode": {
     "languageId": "java"
    }
   },
   "outputs": [
    {
     "name": "stdout",
     "output_type": "stream",
     "text": [
      "H exists in both: true\n",
      "P exists in both: true\n",
      "E exists in both: false\n",
      "Hint for HELLO: H****\n",
      "Hint for WORLD: **R**\n",
      "Hint for HARPS: HARPS\n"
     ]
    }
   ],
   "source": [
    "public class Main {\n",
    "    public static void main(String[] args) {\n",
    "        // Example usage and testing for HiddenWord class\n",
    "\n",
    "        HiddenWord hiddenWordObj = new HiddenWord(\"HARPS\");\n",
    "\n",
    "        // Testing letterExistsInBoth method\n",
    "        char guess1 = 'H';\n",
    "        char guess2 = 'P';\n",
    "        char guess3 = 'E';\n",
    "\n",
    "        System.out.println(guess1 + \" exists in both: \" + hiddenWordObj.letterExistsInBoth(guess1, hiddenWordObj.hiddenWord));\n",
    "        System.out.println(guess2 + \" exists in both: \" + hiddenWordObj.letterExistsInBoth(guess2, hiddenWordObj.hiddenWord));\n",
    "        System.out.println(guess3 + \" exists in both: \" + hiddenWordObj.letterExistsInBoth(guess3, hiddenWordObj.hiddenWord));\n",
    "\n",
    "        // Testing getHint method\n",
    "        String guessA = \"HELLO\";\n",
    "        String guessB = \"WORLD\";\n",
    "        String guessC = \"HARPS\";\n",
    "\n",
    "        System.out.println(\"Hint for \" + guessA + \": \" + hiddenWordObj.getHint(guessA));\n",
    "        System.out.println(\"Hint for \" + guessB + \": \" + hiddenWordObj.getHint(guessB));\n",
    "        System.out.println(\"Hint for \" + guessC + \": \" + hiddenWordObj.getHint(guessC));\n",
    "    }\n",
    "}\n",
    "Main.main(null);"
   ]
  },
  {
   "cell_type": "markdown",
   "metadata": {},
   "source": [
    "### Notes:\n",
    "\n",
    "- Although you can consider Strings as char arrays, you have to use the ```toCharArray()``` method to do the conversion, then treat it like a char array.\n",
    "- Study the code of how to convert an ```ArrayList<String>``` to a char array, you may need it depending on if you're allowed to do it.\n",
    "- Instead of returning an initialized String variable when dealing with strings, create a new instance of String with the parameter as the char array you may have created, assuming you are dealing with a similar question."
   ]
  },
  {
   "cell_type": "markdown",
   "metadata": {},
   "source": [
    "# From APCSA FRQs to Our Project\n",
    "\n",
    "> How this List algorithm relates to our in-class project\n",
    "\n",
    "It is really hard to write good Java code without the use of List/ArrayList algorithms. That's why whether we use them or not in our own code is out of the question, as there are too many examples to list here of the applications of these algorithms. However, one key example is found in our Employee database, where employees represent users in our project. While the employee POJO doesn't need to use list algorithms, the controller and servicing class do. Below is a demonstration of how that works:"
   ]
  },
  {
   "cell_type": "markdown",
   "metadata": {},
   "source": [
    "EmployeeController.java"
   ]
  },
  {
   "cell_type": "code",
   "execution_count": null,
   "metadata": {
    "vscode": {
     "languageId": "java"
    }
   },
   "outputs": [],
   "source": [
    "package com.nighthawk.spring_portfolio.mvc.linkr;\n",
    "\n",
    "import lombok.extern.slf4j.Slf4j;\n",
    "import org.modelmapper.ModelMapper;\n",
    "import org.springframework.beans.factory.annotation.Autowired;\n",
    "import org.springframework.http.HttpStatus;\n",
    "import org.springframework.http.ResponseEntity;\n",
    "import org.springframework.web.bind.annotation.*;\n",
    "import com.nighthawk.spring_portfolio.mvc.person.Person;\n",
    "import com.nighthawk.spring_portfolio.mvc.person.PersonDetailsService;\n",
    "import java.text.SimpleDateFormat;\n",
    "import java.util.Date;\n",
    "import java.util.List;\n",
    "import java.util.Optional;\n",
    "import java.util.stream.Collectors;\n",
    "\n",
    "// Using lombok to automatically generate a logger\n",
    "@Slf4j\n",
    "@RestController\n",
    "@RequestMapping(\"/api/employees\") // Base URL for all endpoints in this controller\n",
    "public class EmployeeController {\n",
    "\n",
    "    private final EmployeeService employeeService; // Service for employee-related operations\n",
    "    private final ModelMapper modelMapper; // For entity-to-DTO mapping\n",
    "    private final PersonDetailsService personDetailsService; // Service for managing person details\n",
    "\n",
    "    @Autowired\n",
    "    public EmployeeController(EmployeeService employeeService, ModelMapper modelMapper, PersonDetailsService personDetailsService) {\n",
    "        this.employeeService = employeeService;\n",
    "        this.modelMapper = modelMapper;\n",
    "        this.personDetailsService = personDetailsService;\n",
    "    }\n",
    "\n",
    "    // Endpoint to get all employees\n",
    "    @GetMapping\n",
    "    public ResponseEntity<List<EmployeeDTO>> getAllEmployees() {\n",
    "        // Retrieving all employees and mapping them to DTOs\n",
    "        List<Employee> employees = employeeService.getAllEmployees();\n",
    "        List<EmployeeDTO> employeeDTOs = employees.stream()\n",
    "                .map(employee -> modelMapper.map(employee, EmployeeDTO.class))\n",
    "                .collect(Collectors.toList());\n",
    "        return new ResponseEntity<>(employeeDTOs, HttpStatus.OK); // Returning DTO list with OK status\n",
    "    }\n",
    "\n",
    "    // Endpoint to get an employee by their ID\n",
    "    @GetMapping(\"/{employeeId}\")\n",
    "    public ResponseEntity<Employee> getEmployeeById(@PathVariable Long employeeId) {\n",
    "        log.info(\"Attempting to retrieve employee with ID: {}\", employeeId); // Logging the attempt\n",
    "        Optional<Employee> employee = employeeService.getEmployeeById(employeeId); // Retrieving employee by ID\n",
    "        if (employee.isPresent()) { // If employee is found\n",
    "            log.info(\"Found employee with ID: {}\", employeeId); // Logging successful retrieval\n",
    "            return ResponseEntity.ok().body(employee.get()); // Returning employee with OK status\n",
    "        } else { // If employee is not found\n",
    "            log.warn(\"Employee with ID {} not found\", employeeId); // Logging warning for not found\n",
    "            return ResponseEntity.status(HttpStatus.NOT_FOUND).build(); // Returning NOT_FOUND status\n",
    "        }\n",
    "    }\n",
    "\n",
    "    // Endpoint to add a new employee\n",
    "    @PostMapping\n",
    "    public ResponseEntity<Employee> addEmployee(@RequestBody Employee employee) {\n",
    "        log.info(\"Attempting to add employee: {}\", employee); // Logging the attempt\n",
    "        Employee addedEmployee = employeeService.createEmployee(employee); // Creating the employee\n",
    "        log.info(\"Employee added successfully: {}\", addedEmployee); // Logging successful addition\n",
    "        \n",
    "        // Creating a Person object and saving person details\n",
    "        Person p6 = new Person();\n",
    "        p6.setName(\"No Name\");\n",
    "        p6.setEmail(employee.getEmail());\n",
    "        p6.setPassword(employee.getPassword());\n",
    "        try {\n",
    "            Date d = new SimpleDateFormat(\"MM-dd-yyyy\").parse(\"05-15-2007\");\n",
    "            p6.setDob(d);\n",
    "        } catch (Exception e) {\n",
    "        }\n",
    "        personDetailsService.save(p6); // Saving person details\n",
    "        \n",
    "        System.out.println(\"Hello\"); // Printing a message\n",
    "        \n",
    "        return new ResponseEntity<>(addedEmployee, HttpStatus.CREATED); // Returning the added employee with CREATED status\n",
    "    }\n",
    "\n",
    "    // Endpoint to delete an employee by their ID\n",
    "    @DeleteMapping(\"/{employeeId}\")\n",
    "    public ResponseEntity<Void> deleteEmployee(@PathVariable Long employeeId) {\n",
    "        log.info(\"Attempting to delete employee with ID: {}\", employeeId); // Logging the attempt\n",
    "        employeeService.deleteEmployee(employeeId); // Deleting the employee\n",
    "        log.info(\"Employee with ID {} deleted successfully\", employeeId); // Logging successful deletion\n",
    "        return ResponseEntity.noContent().build(); // Returning NO_CONTENT status\n",
    "    }\n",
    "}"
   ]
  },
  {
   "cell_type": "markdown",
   "metadata": {},
   "source": [
    "EmployeeRepository.java"
   ]
  },
  {
   "cell_type": "code",
   "execution_count": null,
   "metadata": {
    "vscode": {
     "languageId": "java"
    }
   },
   "outputs": [],
   "source": [
    "package com.nighthawk.spring_portfolio.mvc.linkr;\n",
    "\n",
    "import org.springframework.beans.factory.annotation.Autowired;\n",
    "import org.springframework.security.core.authority.SimpleGrantedAuthority;\n",
    "import org.springframework.security.core.userdetails.UsernameNotFoundException;\n",
    "import org.springframework.stereotype.Service;\n",
    "import java.util.ArrayList;\n",
    "import java.util.Collection;\n",
    "import java.util.List;\n",
    "import java.util.Optional;\n",
    "\n",
    "@Service\n",
    "public class EmployeeService {\n",
    "\n",
    "    private final EmployeeRepository employeeRepository;\n",
    "\n",
    "    @Autowired\n",
    "    public EmployeeService(EmployeeRepository employeeRepository) {\n",
    "        this.employeeRepository = employeeRepository;\n",
    "    }\n",
    "\n",
    "    // Method to retrieve all employees\n",
    "    public List<Employee> getAllEmployees() {\n",
    "        return employeeRepository.findAll();\n",
    "    }\n",
    "\n",
    "    // Method to retrieve an employee by their ID\n",
    "    public Optional<Employee> getEmployeeById(Long employeeId) {\n",
    "        return employeeRepository.findById(employeeId);\n",
    "    }\n",
    "\n",
    "    // Method to create a new employee\n",
    "    public Employee createEmployee(Employee employee) {\n",
    "        // If the employee ID is not provided, generate a new ID\n",
    "        if(employee.getId() == null){\n",
    "            employee.setId(generateNextId());\n",
    "        }\n",
    "        return employeeRepository.save(employee); // Save the employee and return it\n",
    "    }\n",
    "\n",
    "    // Method to delete an employee by their ID\n",
    "    public void deleteEmployee(Long employeeId) {\n",
    "        employeeRepository.deleteById(employeeId);\n",
    "    }\n",
    "\n",
    "    // Method to load user by username (email) for authentication purposes\n",
    "    public Employee loadUserByUsername(String email) throws UsernameNotFoundException {\n",
    "        Employee person = employeeRepository.findByEmail(email); // Retrieve user by email from the database\n",
    "        if(person==null) { // If user is not found\n",
    "            throw new UsernameNotFoundException(\"User not found with username: \" + email); // Throw exception\n",
    "        }\n",
    "        // make sure it recognizes User and Authorities\n",
    "        return new Employee(null, null, person.getEmail(), person.getPassword());\n",
    "    }\n",
    "\n",
    "    // Method to generate the next ID for a new employee\n",
    "    private Long generateNextId() {\n",
    "        // Generate the next ID by retrieving the maximum ID and incrementing it\n",
    "        return employeeRepository.getMaxId() + 1; \n",
    "    }\n",
    "}"
   ]
  },
  {
   "cell_type": "markdown",
   "metadata": {},
   "source": [
    "As you can see in the code, the lists in each class are being manipulated with the same algorithmic conceptual thinking as in the FRQ, proving the connection between the FRQ and our project."
   ]
  }
 ],
 "metadata": {
  "kernelspec": {
   "display_name": "Java",
   "language": "java",
   "name": "java"
  },
  "language_info": {
   "codemirror_mode": "java",
   "file_extension": ".jshell",
   "mimetype": "text/x-java-source",
   "name": "Java",
   "pygments_lexer": "java",
   "version": "17.0.8.1+1-Ubuntu-0ubuntu120.04"
  }
 },
 "nbformat": 4,
 "nbformat_minor": 2
}
