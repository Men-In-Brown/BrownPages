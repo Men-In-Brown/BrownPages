{
 "cells": [
  {
   "cell_type": "markdown",
   "metadata": {},
   "source": [
    "---\n",
    "toc: true\n",
    "comments: false\n",
    "layout: post\n",
    "title: Void/Non-Void Methods, Concatenation, Literals, String Objects and Methods\n",
    "description: A lesson of Collegeboard topics 2.3 - 2.7, making sure to focus on the FRQs\n",
    "type: hacks\n",
    "courses: { csa: {week: 2} }\n",
    "---"
   ]
  },
  {
   "cell_type": "markdown",
   "metadata": {},
   "source": [
    "### Java String Basics Review\n",
    "\n",
    "- **String Object Creation**:\n",
    "  - **Literals**: Assigning a string value within double quotes directly.\n",
    "  - **Using `new` Keyword**: Creating a new instance of a string object using the `new` keyword.\n",
    "  - **String Pool**: Strings created using literals are stored in the string pool, optimizing memory usage.\n",
    "\n",
    "- **String Concatenation**:\n",
    "  - **Concatenation Operator (`+`)**: Combining strings and other data types using the `+` operator.\n",
    "\n",
    "- **StringBuilder**:\n",
    "  - **StringBuilder Class**: Efficient for manipulating strings, especially for frequent concatenation or modification operations.\n",
    "  - **Mutable**: StringBuilder objects are mutable, allowing for in-place modification without creating new objects.\n",
    "\n",
    "- **String Methods**:\n",
    "  - **`indexOf` Method**: Finds the first occurrence of a substring within a string and returns its index.\n",
    "  - **Returning String Types**: Methods like `substring`, `replace`, and `toUpperCase` return new String objects.\n",
    "  - **Returning int and boolean Types**: Methods like `length`, `equals`, and `compareTo` return `int` or `boolean` values."
   ]
  },
  {
   "cell_type": "code",
   "execution_count": 3,
   "metadata": {
    "vscode": {
     "languageId": "java"
    }
   },
   "outputs": [],
   "source": [
    "public class Example {\n",
    "    public static void main(String[] args) {\n",
    "        // String Object Creation\n",
    "        String str1 = \"Tanay\";\n",
    "        String str2 = new String(\"Patel\");\n",
    "\n",
    "        // String Concatenation\n",
    "        String concat = str1 + \", \" + str2;\n",
    "\n",
    "        // StringBuilder\n",
    "        StringBuilder builder = new StringBuilder();\n",
    "        builder.append(str1);\n",
    "        builder.append(\" \");\n",
    "        builder.append(str2);\n",
    "        String result = builder.toString();\n",
    "\n",
    "        // String Methods\n",
    "        int index = concat.indexOf(\"W\");\n",
    "        boolean isEqual = str1.equals(str2);\n",
    "        int length = result.length(); \n",
    "        int comparison = str1.compareTo(str2);\n",
    "    }\n",
    "}\n"
   ]
  },
  {
   "cell_type": "code",
   "execution_count": 7,
   "metadata": {
    "vscode": {
     "languageId": "java"
    }
   },
   "outputs": [
    {
     "name": "stdout",
     "output_type": "stream",
     "text": [
      "H\n",
      "e\n",
      "l\n",
      "l\n",
      "o\n",
      "World\n"
     ]
    }
   ],
   "source": [
    "public class StringCharConversion {\n",
    "    public static void main(String[] args) {\n",
    "        // String to char\n",
    "        String str = \"Hello\";\n",
    "        char[] charArray = str.toCharArray(); // Convert String to char array\n",
    "        for (char c : charArray) {\n",
    "            System.out.println(c); // Print each char\n",
    "        }\n",
    "\n",
    "        // Char to String\n",
    "        char[] chars = {'W', 'o', 'r', 'l', 'd'};\n",
    "        String newStr = new String(chars); // Convert char array to String\n",
    "        System.out.println(newStr); // Print the new String\n",
    "    }\n",
    "}\n",
    "StringCharConversion.main(null);"
   ]
  },
  {
   "cell_type": "markdown",
   "metadata": {},
   "source": [
    "## College Board 2021 FRQ 1\n",
    "\n",
    "![2021 FRQ 1 question]({{site.baseurl}}/images/2021 FRQ 1 question.png)\n",
    "\n",
    "![2021 FRQ 1 part a]({{site.baseurl}}/images/2021 FRQ 1 (a).png)\n",
    "\n",
    "![2021 FRQ 1 part b]({{site.baseurl}}/images/2021 FRQ 1 (b).png)"
   ]
  },
  {
   "cell_type": "code",
   "execution_count": 4,
   "metadata": {
    "vscode": {
     "languageId": "java"
    }
   },
   "outputs": [
    {
     "name": "stdout",
     "output_type": "stream",
     "text": [
      "Better Guess: iii\n"
     ]
    }
   ],
   "source": [
    "public class WordMatch {\n",
    "    private String secret;\n",
    "\n",
    "    public WordMatch(String word) {\n",
    "        this.secret = word;\n",
    "    }\n",
    "\n",
    "    public int scoreGuess(String guess) {\n",
    "        int count = 0;\n",
    "        for (int i = 0; i <= secret.length() - guess.length(); i++) {\n",
    "            if (secret.substring(i, i + guess.length()).equals(guess)) {\n",
    "                count++;\n",
    "            }\n",
    "        }\n",
    "        return count * guess.length() * guess.length();\n",
    "    }\n",
    "\n",
    "    public String findBetterGuess(String guess1, String guess2) {\n",
    "        if (scoreGuess(guess1) > scoreGuess(guess2)) {\n",
    "            return guess1;\n",
    "        } \n",
    "        if (scoreGuess(guess2) > scoreGuess(guess1)) {\n",
    "            return guess2;\n",
    "        } \n",
    "        if (guess1.compareTo(guess2) > 0) {\n",
    "            return guess1;\n",
    "        }\n",
    "        return guess2;\n",
    "    }\n",
    "\n",
    "    public static void main(String[] args) {\n",
    "        WordMatch game = new WordMatch(\"example\");\n",
    "        String guess1 = \"ex\";\n",
    "        String guess2 = \"ample\";\n",
    "\n",
    "        System.out.println(\"Better Guess: \" + game.findBetterGuess(guess1, guess2));\n",
    "    }\n",
    "}\n",
    "WordMatch.main(null);"
   ]
  }
 ],
 "metadata": {
  "kernelspec": {
   "display_name": "Java",
   "language": "java",
   "name": "java"
  },
  "language_info": {
   "codemirror_mode": "java",
   "file_extension": ".jshell",
   "mimetype": "text/x-java-source",
   "name": "Java",
   "pygments_lexer": "java",
   "version": "19.0.1+10"
  }
 },
 "nbformat": 4,
 "nbformat_minor": 2
}
