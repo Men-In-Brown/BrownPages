{
 "cells": [
  {
   "cell_type": "markdown",
   "metadata": {},
   "source": [
    "---\n",
    "toc: true\n",
    "comments: false\n",
    "layout: post\n",
    "title: Void/Non-Void Methods, Concatenation, Literals, String Objects and Methods\n",
    "description: A lesson of Collegeboard topics 2.3 - 2.7, making sure to focus on the FRQs\n",
    "type: hacks\n",
    "courses: { csa: {week: 2} }\n",
    "---"
   ]
  },
  {
   "cell_type": "markdown",
   "metadata": {},
   "source": [
    "# Strings, String Literals, String Objects"
   ]
  },
  {
   "cell_type": "markdown",
   "metadata": {},
   "source": [
    "### Java String Basics Review\n",
    "\n",
    "- **String Object Creation**:\n",
    "  - **Literals**: Assigning a string value within double quotes directly.\n",
    "  - **Using `new` Keyword**: Creating a new instance of a string object using the `new` keyword.\n",
    "  - **String Pool**: Strings created using literals are stored in the string pool, optimizing memory usage.\n",
    "\n",
    "- **String Concatenation**:\n",
    "  - **Concatenation Operator (`+`)**: Combining strings and other data types using the `+` operator.\n",
    "\n",
    "- **StringBuilder**:\n",
    "  - **[StringBuilder Class](https://docs.oracle.com/javase/8/docs/api/java/lang/StringBuilder.html)**: Efficient for manipulating strings, especially for frequent concatenation or modification operations.\n",
    "  - **Mutable**: StringBuilder objects are mutable, allowing for in-place modification without creating new objects.\n",
    "\n",
    "- **String Methods**:\n",
    "  - **`indexOf` Method**: Finds the first occurrence of a substring within a string and returns its index.\n",
    "  - **Returning String Types**: Methods like `substring`, `replace`, and `toUpperCase` return new String objects.\n",
    "  - **Returning int and boolean Types**: Methods like `length`, `equals`, and `compareTo` return `int` or `boolean` values."
   ]
  },
  {
   "cell_type": "code",
   "execution_count": 3,
   "metadata": {
    "vscode": {
     "languageId": "java"
    }
   },
   "outputs": [],
   "source": [
    "public class Example {\n",
    "    public static void main(String[] args) {\n",
    "        // String Object Creation\n",
    "        String str1 = \"Tanay\";\n",
    "        String str2 = new String(\"Patel\");\n",
    "\n",
    "        // String Concatenation\n",
    "        String concat = str1 + \", \" + str2;\n",
    "\n",
    "        // StringBuilder\n",
    "        StringBuilder builder = new StringBuilder();\n",
    "        builder.append(str1);\n",
    "        builder.append(\" \");\n",
    "        builder.append(str2);\n",
    "        String result = builder.toString();\n",
    "\n",
    "        // String Methods\n",
    "        int index = concat.indexOf(\"W\");\n",
    "        boolean isEqual = str1.equals(str2);\n",
    "        int length = result.length(); \n",
    "        int comparison = str1.compareTo(str2);\n",
    "    }\n",
    "}\n"
   ]
  },
  {
   "cell_type": "code",
   "execution_count": 7,
   "metadata": {
    "vscode": {
     "languageId": "java"
    }
   },
   "outputs": [
    {
     "name": "stdout",
     "output_type": "stream",
     "text": [
      "H\n",
      "e\n",
      "l\n",
      "l\n",
      "o\n",
      "World\n"
     ]
    }
   ],
   "source": [
    "public class StringCharConversion {\n",
    "    public static void main(String[] args) {\n",
    "        // String to char\n",
    "        String str = \"Hello\";\n",
    "        char[] charArray = str.toCharArray(); // Convert String to char array\n",
    "        for (char c : charArray) {\n",
    "            System.out.println(c); // Print each char\n",
    "        }\n",
    "\n",
    "        // Char to String\n",
    "        char[] chars = {'W', 'o', 'r', 'l', 'd'};\n",
    "        String newStr = new String(chars); // Convert char array to String\n",
    "        System.out.println(newStr); // Print the new String\n",
    "    }\n",
    "}\n",
    "StringCharConversion.main(null);"
   ]
  },
  {
   "cell_type": "markdown",
   "metadata": {},
   "source": [
    "## College Board 2021 FRQ 1\n",
    "\n",
    "<img width=\"534\" alt=\"2021FRQ1question\" src=\"https://github.com/nVarap/CSABlog/assets/108639268/e5e62a14-37ee-44e7-a81b-9b796cc6a3bd\">\n",
    "\n",
    "<img width=\"517\" alt=\"2021FRQ1a\" src=\"https://github.com/nVarap/CSABlog/assets/108639268/ca8ebf73-3eb3-4406-be4e-afeae614267b\">\n",
    "\n",
    "<img width=\"570\" alt=\"2021FRQ1b\" src=\"https://github.com/nVarap/CSABlog/assets/108639268/747d6bc1-a241-4ca2-9735-2a83872b2222\">"
   ]
  },
  {
   "cell_type": "code",
   "execution_count": 4,
   "metadata": {
    "vscode": {
     "languageId": "java"
    }
   },
   "outputs": [
    {
     "name": "stdout",
     "output_type": "stream",
     "text": [
      "Better Guess: iii\n"
     ]
    }
   ],
   "source": [
    "public class WordMatch {\n",
    "    private String secret;\n",
    "\n",
    "    public WordMatch(String word) {\n",
    "        this.secret = word;\n",
    "    }\n",
    "\n",
    "    public int scoreGuess(String guess) {\n",
    "        int count = 0;\n",
    "        for (int i = 0; i <= secret.length() - guess.length(); i++) {\n",
    "            if (secret.substring(i, i + guess.length()).equals(guess)) {\n",
    "                count++;\n",
    "            }\n",
    "        }\n",
    "        return count * guess.length() * guess.length();\n",
    "    }\n",
    "\n",
    "    public String findBetterGuess(String guess1, String guess2) {\n",
    "        if (scoreGuess(guess1) > scoreGuess(guess2)) {\n",
    "            return guess1;\n",
    "        } \n",
    "        if (scoreGuess(guess2) > scoreGuess(guess1)) {\n",
    "            return guess2;\n",
    "        } \n",
    "        if (guess1.compareTo(guess2) > 0) {\n",
    "            return guess1;\n",
    "        }\n",
    "        return guess2;\n",
    "    }\n",
    "\n",
    "    public static void main(String[] args) {\n",
    "        WordMatch game = new WordMatch(\"example\");\n",
    "        String guess1 = \"ex\";\n",
    "        String guess2 = \"ample\";\n",
    "\n",
    "        System.out.println(\"Better Guess: \" + game.findBetterGuess(guess1, guess2));\n",
    "    }\n",
    "}\n",
    "WordMatch.main(null);"
   ]
  },
  {
   "cell_type": "markdown",
   "metadata": {},
   "source": [
    "# Void and Non-Void Methods"
   ]
  },
  {
   "cell_type": "markdown",
   "metadata": {},
   "source": [
    "# Review: Void & Non-Void Methods\n",
    "\n",
    "- A void method is a method that does not return any data.\n",
    "- A non-void method is a method that is defined as a data type and returns that data type."
   ]
  },
  {
   "cell_type": "markdown",
   "metadata": {},
   "source": [
    "# FRQ Example of Non-Void Methods: 2017 FRQ #1\n",
    "\n",
    "This question involves identifying and processing the digits of a non-negative integer. The declaration of the ```Digits``` class is shown below. You will write the constructor and one method for the ```Digits``` class."
   ]
  },
  {
   "cell_type": "code",
   "execution_count": null,
   "metadata": {
    "vscode": {
     "languageId": "java"
    }
   },
   "outputs": [],
   "source": [
    "public class Digits {\n",
    "    private ArrayList<Integer> digitList;\n",
    "\n",
    "    public Digits(int num) {}\n",
    "\n",
    "    public boolean isStrictlyIncreasing() {\n",
    "        \n",
    "    }\n",
    "}"
   ]
  },
  {
   "cell_type": "markdown",
   "metadata": {},
   "source": [
    "Since we are looking at methods for this lesson, we will skip ahead to part b, which is to write the `isStrictlyIncreasing()` method. \n",
    "\n",
    "Since this part of the FRQ is of type Methods & Control Structures, we must think of how we can use methods, loops, conditionals, and other structures to write this method.\n",
    "\n",
    "The method `isStrictlyIncreasing()` needs to return true if the digits from left to right are increasing.\n",
    "\n",
    "From this, two potential control structures come into play:\n",
    "- A `for` loop to iterate through the digits from left to right\n",
    "- A conditional in the loop to compare different digits to each other and check if the list is increasing.\n",
    "\n",
    "Let's first start with the `for` loop:"
   ]
  },
  {
   "cell_type": "code",
   "execution_count": null,
   "metadata": {
    "vscode": {
     "languageId": "java"
    }
   },
   "outputs": [],
   "source": [
    "public boolean isStrictlyIncreasing() {\n",
    "    // Iterate through the list\n",
    "    for (int i = 0; i < digitList.size() - 1; i++) {\n",
    "\n",
    "    }\n",
    "}"
   ]
  },
  {
   "cell_type": "markdown",
   "metadata": {},
   "source": [
    "The code above correctly iterates through each digit of the number.\n",
    "\n",
    "Now, let's apply our conditional. We want to check if the digits are increasing from left to right. A way to do this is to compare the index we are on in the loop with the index after it. \n",
    "\n",
    "If the index after the one we are on is greater, we continue, and if its less than the one we are on, we stop. \n",
    "\n",
    "Here's how I put that in Java:"
   ]
  },
  {
   "cell_type": "code",
   "execution_count": null,
   "metadata": {
    "vscode": {
     "languageId": "java"
    }
   },
   "outputs": [],
   "source": [
    "public boolean isStrictlyIncreasing() {\n",
    "    for (int i = 0; i < digitList.size() - 1; i++) {\n",
    "        // Check if the element after the index currently pointed to is greater or less than. If the one we are pointing to is greater, we return false, because it is therefore not strictly increasing.\n",
    "        if (digitList.get(i).intValue() > digitList.get(i + 1).intValue()) {\n",
    "            return false;\n",
    "        }\n",
    "    }\n",
    "    \n",
    "    return true;\n",
    "}"
   ]
  },
  {
   "cell_type": "markdown",
   "metadata": {},
   "source": [
    "# Teacher Hacks Example of Void Methods: Do Nothing By Value\n",
    "\n",
    "Consider the following code:"
   ]
  },
  {
   "cell_type": "code",
   "execution_count": null,
   "metadata": {
    "vscode": {
     "languageId": "java"
    }
   },
   "outputs": [],
   "source": [
    "public class DoNothingByValue {\n",
    "    public int[] arr;\n",
    "    public int val;\n",
    "    public String word;\n",
    "\n",
    "\n",
    "    // changed to show what is happening\n",
    "    public DoNothingByValue (int [] arr, int val, String word) {\n",
    "        this.arr = new int[5];\n",
    "        this.val = 0;\n",
    "        this.word = word.substring(0, 5);\n",
    "\n",
    "        System.out.print(\"constructor: \");\n",
    "        for (int k = 0; k < arr.length; k++) {\n",
    "            arr[k] = 0;                          // int array is initialized to 0's, not needed\n",
    "            System.out.print(arr[k] + \" \");\n",
    "\n",
    "        }\n",
    "        System.out.println(this.word);\n",
    "\n",
    "    }\n",
    "\n",
    "    // Local instance variables\n",
    "    // IntelliJ shows that something is wrong, calling the values passed as parameters as local\n",
    "    public static void changeIt(int [] arr, int val, String word) {\n",
    "        arr = new int[5];\n",
    "        val = 0;\n",
    "        word = word.substring(0, 5);\n",
    "\n",
    "        System.out.print(\"changeIt: \"); // added\n",
    "        for (int k = 0; k < arr.length; k++) {\n",
    "            arr[k] = 0;\n",
    "            System.out.print(arr[k] + \" \"); // added\n",
    "        }\n",
    "        System.out.println(word);   // added\n",
    "\n",
    "    }\n",
    "\n",
    "    // Variable name are Reference\n",
    "    // names of variables make no difference, they are just references to addresses\n",
    "    public static void changeIt2(int [] nums, int value, String name) {\n",
    "        nums = new int[5];           // new creates new memory address\n",
    "        value = 0;                   // primitives are pass by value\n",
    "        name = name.substring(0, 5); // all wrapper classes have automatic \"new\", same as word = new String(word.substring(0, 5));\n",
    "\n",
    "        // this loop changes nums locally\n",
    "        System.out.print(\"changeIt2: \");\n",
    "        for (int k = 0; k < nums.length; k++) {\n",
    "            nums[k] = 0;\n",
    "            System.out.print(nums[k] + \" \");\n",
    "        }\n",
    "        System.out.println(name);\n",
    "\n",
    "    }\n",
    "\n",
    "\n",
    "    // If you want to change values, think about Return values, but you are limited to one in Java\n",
    "    // changed to show what is happening\n",
    "    public static String changeIt3(int [] arr, String word) {\n",
    "        word = new String(word.substring(0, 5));    // wrapper class does a \"new\" on any assignment\n",
    "\n",
    "        System.out.print(\"changeIt3: \");\n",
    "        for (int k = 0; k < arr.length; k++) {\n",
    "            arr[k] = 0;                          // int array is initialized to 0's, not needed\n",
    "            System.out.print(arr[k] + \" \");\n",
    "\n",
    "        }\n",
    "        System.out.println(word);\n",
    "\n",
    "        return word;\n",
    "    }\n",
    "\n",
    "    // Variable inside of Object Triple are references\n",
    "    public static Triple<int[], Integer, String> changeIt4(Triple<int[], Integer, String> T) {\n",
    "        T.setOne(new int[5]);\n",
    "        T.setTwo(0);                   // primitives are pass by value\n",
    "        T.setThree(T.getThree().substring(0, 5)); // all wrapper classes have automatic \"new\", same as word = new String(word.substring(0, 5));\n",
    "\n",
    "        // this loop changes nums locally\n",
    "        System.out.print(\"changeIt4: \");\n",
    "        for (int i : T.getOne()) {\n",
    "            System.out.print(i + \" \");\n",
    "        }\n",
    "        System.out.println(T.getThree());\n",
    "\n",
    "        return T;\n",
    "    }\n",
    "\n",
    "\n",
    "    // Original method changed to main in order to be a Tester\n",
    "    public static void main(String[] args) {\n",
    "        // Does nothing\n",
    "        int [] nums = {1, 2, 3, 4, 5};\n",
    "        int value = 6;\n",
    "        String name = \"blackboard\";\n",
    "        System.out.println(\"Do Nothings\");\n",
    "        // dumb and useless\n",
    "        changeIt(nums, value, name);\n",
    "        // dumber and useless\n",
    "        changeIt2(nums, value, name);\n",
    "        System.out.print(\"main: \");\n",
    "        for (int k = 0; k < nums.length; k++) {\n",
    "            System.out.print (nums[k] + \" \");\n",
    "        }\n",
    "        System.out.print(value + \" \");\n",
    "        System.out.print(name);\n",
    "\n",
    "        System.out.println();\n",
    "        System.out.println();\n",
    "\n",
    "\n",
    "        // int[] by reference, return value  -- not complete\n",
    "        System.out.println(\"Limited return\");\n",
    "        int[] nums2 = {1, 2, 3, 4, 5};\n",
    "        value = 6;\n",
    "        name = \"limited\";\n",
    "        name = changeIt3(nums2, name);\n",
    "        System.out.print(\"main2: \");\n",
    "        for (int num : nums2) {\n",
    "            System.out.print(num + \" \");\n",
    "        }\n",
    "        System.out.print(value + \" \");\n",
    "        System.out.print(name);\n",
    "\n",
    "        System.out.println();\n",
    "        System.out.println();\n",
    "\n",
    "\n",
    "        // Class/Object\n",
    "        System.out.println(\"Do Something with Class\");\n",
    "        int[] nums3 = {1, 2, 3, 4, 5};\n",
    "        value = 6;\n",
    "        name = \"classy\";\n",
    "        DoNothingByValue doSomething = new DoNothingByValue(nums3, value, name);\n",
    "\n",
    "        System.out.print(\"main3: \");\n",
    "        for (int num : doSomething.arr) {      // should be teaching enhanced for loop on arrays\n",
    "            System.out.print(num + \" \");\n",
    "        }\n",
    "        System.out.print(doSomething.val + \" \");\n",
    "        System.out.print(doSomething.word);\n",
    "\n",
    "        System.out.println();\n",
    "        System.out.println();\n",
    "\n",
    "        // Generics\n",
    "        System.out.println(\"Do Something with Generics\");\n",
    "        int[] nums4 = {1, 2, 3, 4, 5};\n",
    "        value = 6;\n",
    "        name = \"generics\";\n",
    "        Triple<int[],Integer,String> tri = changeIt4(new Triple<>(nums4, value, name));\n",
    "\n",
    "        System.out.print(\"main: \");\n",
    "        for (int num : tri.getOne())\n",
    "            System.out.print (num + \" \");\n",
    "\n",
    "        System.out.print(tri.getTwo() + \" \");\n",
    "        System.out.print(tri.getThree());\n",
    "    }\n",
    "\n",
    "}\n",
    "\n",
    "// This class can be used to pass variables by reference\n",
    "class Triple<T1, T2, T3> {\n",
    "    T1 one;\n",
    "    T2 two;\n",
    "    T3 three;\n",
    "\n",
    "    Triple(T1 one, T2 two, T3 three) {\n",
    "        this.one = one;\n",
    "        this.two = two;\n",
    "        this.three = three;\n",
    "    }\n",
    "\n",
    "    public T1 getOne() { return this.one; }\n",
    "    public void setOne(T1 one) { this.one = one; }\n",
    "\n",
    "    public T2 getTwo() { return this.two; }\n",
    "    public void setTwo(T2 two) { this.two = two; }\n",
    "\n",
    "    public T3 getThree() { return this.three; }\n",
    "    public void setThree(T3 three) { this.three = three; }\n",
    "}"
   ]
  },
  {
   "cell_type": "markdown",
   "metadata": {},
   "source": [
    "This is a lot of code, but let's look at a key method here:"
   ]
  },
  {
   "cell_type": "code",
   "execution_count": null,
   "metadata": {
    "vscode": {
     "languageId": "java"
    }
   },
   "outputs": [],
   "source": [
    "public static void changeIt(int [] arr, int val, String word) {\n",
    "    arr = new int[5];\n",
    "    val = 0;\n",
    "    word = word.substring(0, 5);\n",
    "\n",
    "    System.out.print(\"changeIt: \"); // added\n",
    "    for (int k = 0; k < arr.length; k++) {\n",
    "        arr[k] = 0;\n",
    "        System.out.print(arr[k] + \" \"); // added\n",
    "    }\n",
    "    System.out.println(word);   // added\n",
    "\n",
    "}"
   ]
  },
  {
   "cell_type": "markdown",
   "metadata": {},
   "source": [
    "This method:\n",
    "\n",
    "- Is a void method\n",
    "- Does not return any data but instead prints it in the console\n",
    "- Has a control structure\n",
    "    - The `for` loop\n",
    "- Manipulates a list through its `for` loop control structure\n",
    "\n",
    "# Recap\n",
    "\n",
    "For **Methods & Control Structures** questions, here are the steps we recommend:\n",
    "\n",
    "- Write a quick list of M&CT you know to remind yourself:\n",
    "    - Void methods\n",
    "    - Non-void methods\n",
    "        - Most of the time, all methods are already defined, you just have to write them\n",
    "    - For loops\n",
    "    - While loops\n",
    "    - Conditional statements\n",
    "    - Nested loops\n",
    "    - Nested conditionals\n",
    "    - Switch/case\n",
    "        - I wouldn't count on using this\n",
    "- Map out your code using basic diagrams as pseudo code\n",
    "    - As you go, check off M&CT off of your list whenever you use them\n",
    "        - Remember that they can be used more than once\n",
    "    - Try going into a bit more detail when you start applying the M&CT to your pseudo code\n",
    "- Write your code out (yes, it is in pen)\n",
    "    - Remember to have a mental debugger\n",
    "        - If you need practice, do the debugging event lesson again and play around with different breakpoints, errors, etc."
   ]
  }
 ],
 "metadata": {
  "kernelspec": {
   "display_name": "Java",
   "language": "java",
   "name": "java"
  },
  "language_info": {
   "codemirror_mode": "java",
   "file_extension": ".jshell",
   "mimetype": "text/x-java-source",
   "name": "Java",
   "pygments_lexer": "java",
   "version": "20.0.2+9-78"
  }
 },
 "nbformat": 4,
 "nbformat_minor": 2
}
