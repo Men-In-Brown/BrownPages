{
 "cells": [
  {
   "cell_type": "markdown",
   "metadata": {},
   "source": [
    "---\n",
    "comments: true\n",
    "layout: notebook\n",
    "title: Period 3 Method's & Control Structures Lesson, focus on 2D Array Subtopic\n",
    "description: Covering 2D Array Iteration\n",
    "type: Lesson\n",
    "toc: true\n",
    "---"
   ]
  },
  {
   "cell_type": "markdown",
   "metadata": {},
   "source": [
    "# FRQ 2012 4\n",
    "\n",
    "![2021 FRQ 1 question]({{site.baseurl}}/images/FRQ 2012 4 Part b.png)\n",
    "![2021 FRQ 1 question]({{site.baseurl}}/images/FRQ 2012 4 Part a and Question.png)"
   ]
  },
  {
   "cell_type": "code",
   "execution_count": null,
   "metadata": {},
   "outputs": [],
   "source": []
  }
 ],
 "metadata": {
  "kernelspec": {
   "display_name": "Java",
   "language": "java",
   "name": "java"
  },
  "language_info": {
   "name": "java"
  }
 },
 "nbformat": 4,
 "nbformat_minor": 2
}
