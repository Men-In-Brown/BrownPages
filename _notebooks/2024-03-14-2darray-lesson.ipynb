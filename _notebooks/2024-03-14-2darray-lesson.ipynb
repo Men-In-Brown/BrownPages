{
 "cells": [
  {
   "cell_type": "markdown",
   "metadata": {},
   "source": [
    "---\n",
    "comments: true\n",
    "layout: notebook\n",
    "title: AP Prep - 2D Arrays\n",
    "description: Covering how to read, write, iterate through, and solve 2D array problems\n",
    "type: Lesson\n",
    "toc: true\n",
    "permalink: /ap-prep-2d-arrays\n",
    "---"
   ]
  },
  {
   "cell_type": "markdown",
   "metadata": {},
   "source": [
    "# 2012 FRQ #4\n",
    "\n",
    "*Note: We will be focusing only on part A as this is the part related to 2D arrays*\n",
    "\n",
    "A grayscale image is represented by a 2-dimensional rectangular array of pixels (picture elements). A pixel is an integer value that represents a shade of gray. In this question, pixel values can be in the range from 0 through 255, inclusive. A black pixel is represented by 0, and a white pixel is represented by 255.\n",
    "\n",
    "The declaration of the `GrayImage` class is shown below. You will write two unrelated methods of the `GrayImage` class."
   ]
  },
  {
   "cell_type": "code",
   "execution_count": null,
   "metadata": {},
   "outputs": [],
   "source": [
    "public class GrayImage {\n",
    "    public static final int BLACK = 0;\n",
    "    public static final int WHITE = 255;\n",
    "\n",
    "    private int[][] pixelValues;\n",
    "\n",
    "    public int countWhitePixels();\n",
    "\n",
    "    public void processImage();\n",
    "}"
   ]
  },
  {
   "cell_type": "markdown",
   "metadata": {},
   "source": [
    "a.) Write the method `countWhitePixels()` that returns the number of pixels in the image that contain the value `WHITE`. For example, assume that `pixelValues` contain the following image:\n",
    "\n",
    "<img src=\"{{ site.baseurl }}/images/frq4.png\">\n",
    "\n",
    "A call to `countWhitePixels()` method would return 5 because there are 5 entries (shown in boldface) that have the value `WHITE`."
   ]
  },
  {
   "cell_type": "markdown",
   "metadata": {},
   "source": [
    "# Common Tips\n",
    "\n",
    "For **Methods & Control Structures** questions, here are the steps we recommend:\n",
    "\n",
    "- Write a quick list of M&CT you know to remind yourself:\n",
    "    - Void methods\n",
    "    - Non-void methods\n",
    "        - Most of the time, all methods are already defined, you just have to write them\n",
    "    - For loops\n",
    "    - While loops\n",
    "    - Conditional statements\n",
    "    - Nested loops\n",
    "    - Nested conditionals\n",
    "    - Switch/case\n",
    "        - I wouldn't count on using this\n",
    "- Map out your code using basic diagrams as pseudo code\n",
    "    - As you go, check off M&CT off of your list whenever you use them\n",
    "        - Remember that they can be used more than once\n",
    "    - Try going into a bit more detail when you start applying the M&CT to your pseudo code\n",
    "- Write your code out (yes, it is in pen)\n",
    "    - Remember to have a mental debugger\n",
    "        - If you need practice, do the debugging event lesson again and play around with different breakpoints, errors, etc.\n",
    "\n",
    "For M&CT questions that involve **2D Arrays**, here are the steps we recommend:\n",
    "\n",
    "- Establish what the question is asking:\n",
    "    - Almost always, the question requires you to iterate through the list.\n",
    "    - Then, either search for something, count up elements, or manipulate certain elements that you parse through.\n",
    "- Use the steps from methods & control structures to map out (with pseudo-code) exactly what you're going to do with the 2D array.\n",
    "    - Remember to always keep a mental debugger active\n",
    "    - If you're not sure about a certain line of code, it's the perfect opportunity to literally add a breakpoint in your code.\n",
    "    - Treat breakpoints in your code as a \"mark for review\" symbol. \n"
   ]
  }
 ],
 "metadata": {
  "kernelspec": {
   "display_name": "Java",
   "language": "java",
   "name": "java"
  },
  "language_info": {
   "name": "java"
  }
 },
 "nbformat": 4,
 "nbformat_minor": 2
}
