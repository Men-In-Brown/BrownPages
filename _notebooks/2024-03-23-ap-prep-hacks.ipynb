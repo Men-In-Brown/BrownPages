{
 "cells": [
  {
   "cell_type": "markdown",
   "metadata": {},
   "source": [
    "---\n",
    "comments: true\n",
    "layout: notebook\n",
    "title: AP Prep Hacks\n",
    "description: xx\n",
    "type: hacks\n",
    "courses: { compsci: {week: 0} }\n",
    "categories: [C4.1]\n",
    "toc: true\n",
    "permalink: /ap-prep-hacks-paaras\n",
    "---"
   ]
  },
  {
   "cell_type": "markdown",
   "metadata": {},
   "source": [
    "# Value & Reference Types\n",
    "\n",
    "### Part 1"
   ]
  },
  {
   "cell_type": "code",
   "execution_count": 2,
   "metadata": {
    "vscode": {
     "languageId": "java"
    }
   },
   "outputs": [
    {
     "name": "stdout",
     "output_type": "stream",
     "text": [
      "16\n"
     ]
    }
   ],
   "source": [
    "public class Person {\n",
    "    String name;\n",
    "    int age;\n",
    "    int height;\n",
    "    String job;\n",
    "\n",
    "    public Person(String name, int age, int height, String job) {\n",
    "        this.name = name;\n",
    "        this.age = age;\n",
    "        this.height = height;\n",
    "        this.job = job;\n",
    "    }\n",
    "}\n",
    "\n",
    "public static void main(String[] args) {\n",
    "    Person person1 = new Person(\"Carl\", 25, 165, \"Construction Worker\");\n",
    "    Person person2 = new Person(\"Adam\", 29, 160, \"Truck Driver\");\n",
    "    Person person3 = person1;\n",
    "    int number = 16;\n",
    "    System.out.println(number);\n",
    "}\n",
    "main(null);"
   ]
  },
  {
   "cell_type": "markdown",
   "metadata": {},
   "source": [
    "Answer the following questions based on the code above:\n",
    "\n",
    "1. What kind of types are person1 and person2?\n",
    "\n",
    "    **Answer: They are reference types, because they are instantiations of classes.**\n",
    "\n",
    "2. Do person1 and person3 point to the same value in memory?\n",
    "\n",
    "    **Answer: Yes, because they are referencing the same value stored in the heap memory.**\n",
    "    \n",
    "3. Is the integer \"number\" stored in the heap or in the stack?\n",
    "\n",
    "    **Answer: The value type is stored in the stack.**\n",
    "\n",
    "4. Is the value that \"person1\" points to stored in the heap or in the stack?\n",
    "\n",
    "    **Answer: The value is stored in stack, but the reference is stored in the heap.**"
   ]
  },
  {
   "cell_type": "markdown",
   "metadata": {},
   "source": [
    "### Part 2\n",
    "\n",
    "Question 1: Primitive Types vs Reference Types (Unit 1)\n",
    "\n",
    "Situation: You are developing a banking application where you need to represent customer information. You have decided to use both primitive types and reference types for this purpose.\n",
    "\n",
    "(a) Define primitive types and reference types in Java. Provide examples of each.\n",
    "\n",
    "(b) Explain the differences between primitive types and reference types in terms of memory allocation and usage in Java programs.\n",
    "\n",
    "(c) Code:\n",
    "\n",
    "You have a method `calculateInterest` that takes a primitive `double` type representing the principal amount and a reference type `Customer` representing the customer information. Write the method signature and the method implementation. Include comments to explain your code.\n"
   ]
  },
  {
   "cell_type": "code",
   "execution_count": 6,
   "metadata": {
    "vscode": {
     "languageId": "java"
    }
   },
   "outputs": [
    {
     "name": "stdout",
     "output_type": "stream",
     "text": [
      "9.0\n"
     ]
    }
   ],
   "source": [
    "// A: Primitive types are stored in the stack. Reference types are stored in the heap. \n",
    "\n",
    "// B: Primitive types point to one value only. Multiple reference types can reference one value.AbstractCollection\n",
    "\n",
    "public class DifferentTypes {\n",
    "    private int num = 0; // Primitive value type\n",
    "    public DifferentTypes refer = new DifferentTypes(); // Reference type\n",
    "}\n",
    "\n",
    "// C: Banking application with Customer class that has a calculateInterest() method.\n",
    "\n",
    "public class Customer {\n",
    "\n",
    "    private double amount; // Primitive value type\n",
    "\n",
    "    public Customer(double _amount) {\n",
    "        amount = _amount;\n",
    "    }\n",
    "\n",
    "    double calculateInterest(double interest, Customer customer /* Reference type */) {\n",
    "        return customer.amount * interest / 100; // Referencing the primitive value through the reference type\n",
    "    }\n",
    "}\n",
    "\n",
    "public class Main {\n",
    "    public static void main(String[] args) {\n",
    "        Customer customer = new Customer(100);\n",
    "        double interest = customer.calculateInterest(9, customer);\n",
    "        System.out.println(interest);\n",
    "    }\n",
    "}\n",
    "Main.main(null);\n",
    "\n",
    "// Lesson learnt: Don't put access modifiers on methods unncessarily, or in this case, at all."
   ]
  },
  {
   "cell_type": "markdown",
   "metadata": {},
   "source": [
    "# Writing Classes"
   ]
  },
  {
   "cell_type": "code",
   "execution_count": 12,
   "metadata": {
    "vscode": {
     "languageId": "java"
    }
   },
   "outputs": [
    {
     "name": "stdout",
     "output_type": "stream",
     "text": [
      "Paaras\n",
      "125.0\n",
      "75.0\n",
      "You do not have enough to withdraw\n",
      "75.0\n"
     ]
    }
   ],
   "source": [
    "// A: Below is a class with comments defining the three key parts in order of writing any class\n",
    "\n",
    "public class PlainDefaultClass {\n",
    "\n",
    "    // Variables are the first key component\n",
    "    private int numberValue;\n",
    "    private double decimalValue;\n",
    "    private String message;\n",
    "    private boolean condition;\n",
    "\n",
    "    // Constructors are the second key component\n",
    "    public PlainDefaultClass(int numberValue, double decimalValue, String message, boolean condition) {\n",
    "        this.numberValue = numberValue;\n",
    "        this.decimalValue = decimalValue;\n",
    "        this.message = message;\n",
    "        this.condition = condition;\n",
    "    }\n",
    "\n",
    "    // Methods are the third key component\n",
    "    int getNumValue() {\n",
    "        return this.numberValue;\n",
    "    }\n",
    "\n",
    "    double getDecimalValue() {\n",
    "        return this.decimalValue;\n",
    "    }\n",
    "\n",
    "    String getMessage() {\n",
    "        return this.message;\n",
    "    }\n",
    "\n",
    "    boolean getCondition() {\n",
    "        return this.condition;\n",
    "    }\n",
    "}\n",
    "\n",
    "// B: Below is the BankAccount class with all the instructions completed\n",
    "\n",
    "public class BankAccount {\n",
    "\n",
    "    // Variables\n",
    "    private String accountHolder;\n",
    "    private double balance;\n",
    "    \n",
    "    // Constructor\n",
    "    public BankAccount(String accountHolder, double balance) {\n",
    "        this.accountHolder = accountHolder;\n",
    "        this.balance = balance;\n",
    "    }\n",
    "\n",
    "    // Methods\n",
    "    String setAccountHolder(String name) {\n",
    "        this.accountHolder = name;\n",
    "        return this.accountHolder;\n",
    "    }\n",
    "\n",
    "    double deposit(double amount) {\n",
    "        this.balance += amount;\n",
    "        return this.balance;\n",
    "    }\n",
    "\n",
    "    double withdraw(double amount) {\n",
    "        if (amount <= this.balance) {\n",
    "            this.balance -= amount;\n",
    "            return this.balance;\n",
    "        } else {\n",
    "            System.out.println(\"You do not have enough to withdraw\");\n",
    "            return this.balance;\n",
    "        }\n",
    "    }\n",
    "}\n",
    "\n",
    "public class Main {\n",
    "    public static void main(String[] args) {\n",
    "        BankAccount account = new BankAccount(\"None\", 100);\n",
    "        System.out.println(account.setAccountHolder(\"Paaras\"));\n",
    "        System.out.println(account.deposit(25));\n",
    "        System.out.println(account.withdraw(50));\n",
    "        System.out.println(account.withdraw(175));\n",
    "    }\n",
    "}\n",
    "\n",
    "Main.main(null);\n",
    "\n",
    "// Lessons learnt: First, always make sure all variables everywhere have an identifier. Second, make sure you don't forget to actually write the main method."
   ]
  },
  {
   "cell_type": "markdown",
   "metadata": {},
   "source": [
    "# Wrapper Classes\n",
    "\n",
    "**Popcorn Hack: Fill out the below.**\n",
    "\n",
    "- `byte` → `Byte`\n",
    "- `short` → `Short`\n",
    "- `int` → <u>Integer</u>\n",
    "- `long` → `Long`\n",
    "- `float` → `Float`\n",
    "- `double` → <u>Double</u>\n",
    "- `char` → `Character`\n",
    "- `boolean` → `Boolean`\n",
    "\n",
    "**A.** Wrapper classes are used to make reference types out of primitive types. This can be useful if you want multiple references stored in the heap so they can point to the same value in the stack."
   ]
  },
  {
   "cell_type": "code",
   "execution_count": 13,
   "metadata": {
    "vscode": {
     "languageId": "java"
    }
   },
   "outputs": [
    {
     "name": "stdout",
     "output_type": "stream",
     "text": [
      "54.0\n",
      "108.0\n",
      "226.4\n"
     ]
    }
   ],
   "source": [
    "// B: The Temperature class that represents a temperature in Celsius\n",
    "\n",
    "public class Temperature {\n",
    "    private Double temp;\n",
    "\n",
    "    public Temperature(double temp) {\n",
    "        this.temp = temp; // Autoboxing\n",
    "    }\n",
    "\n",
    "    double getTemperature() {\n",
    "        return this.temp;\n",
    "    }\n",
    "\n",
    "    void setTemperature(double value) {\n",
    "        this.temp = value; // Autoboxing\n",
    "    }\n",
    "\n",
    "    double toFahrenheit() {\n",
    "        double fahrenheit = (this.temp * 1.8) + 32; \n",
    "        return fahrenheit;\n",
    "    }\n",
    "}\n",
    "\n",
    "public class Main {\n",
    "    public static void main(String[] args) {\n",
    "        Temperature temp = new Temperature(54);\n",
    "        System.out.println(temp.getTemperature());\n",
    "        temp.setTemperature(108);\n",
    "        System.out.println(temp.getTemperature());\n",
    "        System.out.println(temp.toFahrenheit());\n",
    "    }\n",
    "}\n",
    "Main.main(null);"
   ]
  }
 ],
 "metadata": {
  "kernelspec": {
   "display_name": "Java",
   "language": "java",
   "name": "java"
  },
  "language_info": {
   "codemirror_mode": "java",
   "file_extension": ".jshell",
   "mimetype": "text/x-java-source",
   "name": "Java",
   "pygments_lexer": "java",
   "version": "17.0.8.1+1-Ubuntu-0ubuntu120.04"
  }
 },
 "nbformat": 4,
 "nbformat_minor": 2
}
