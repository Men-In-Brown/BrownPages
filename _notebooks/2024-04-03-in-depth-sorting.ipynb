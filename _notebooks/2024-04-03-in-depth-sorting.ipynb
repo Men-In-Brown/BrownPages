{
 "cells": [
  {
   "cell_type": "markdown",
   "metadata": {},
   "source": [
    "---\n",
    "comments: true\n",
    "layout: notebook\n",
    "title: Learning Sorting Algorithms in Depth\n",
    "description: Demonstrating linked lists, sort keys, and other complex concepts through sorting algorithms.\n",
    "type: hacks\n",
    "courses: { compsci: {week: 0} }\n",
    "categories: [C4.1]\n",
    "toc: true\n",
    "permalink: /ap-prep-hacks-paaras\n",
    "---"
   ]
  },
  {
   "cell_type": "markdown",
   "metadata": {},
   "source": [
    "Implement a Sort into your LL in Jupyter Notebook ... Here is concept.\n",
    "\n",
    "# Implementing Linked Lists\n",
    "\n",
    "Before completing this, I had to do some reserach on what a linked list was. From research, I was able to summarize what I found.\n",
    "\n",
    "A linked list is a linear data structure where elements are stored in nodes. Each node contains a data element and a reference (or pointer) to the next node in the sequence. Linked lists are dynamic data structures, meaning that the size of the list can be modified during program execution by adding or removing nodes.\n",
    "\n",
    "In Java, linked lists can be implemented using the `LinkedList` class from the `java.util` package or by implementing a custom linked list.\n",
    "\n",
    "Here's an example of a singly linked list implementation in Java:"
   ]
  },
  {
   "cell_type": "code",
   "execution_count": 2,
   "metadata": {
    "vscode": {
     "languageId": "java"
    }
   },
   "outputs": [
    {
     "name": "stdout",
     "output_type": "stream",
     "text": [
      "1 2 3 \n"
     ]
    }
   ],
   "source": [
    "class Node {\n",
    "    int data;\n",
    "    Node next;\n",
    "\n",
    "    public Node(int data) {\n",
    "        this.data = data;\n",
    "        this.next = null;\n",
    "    }\n",
    "}\n",
    "\n",
    "class LinkedList {\n",
    "    Node head;\n",
    "\n",
    "    public LinkedList() {\n",
    "        this.head = null;\n",
    "    }\n",
    "\n",
    "    public void add(int data) {\n",
    "        Node newNode = new Node(data);\n",
    "        if (head == null) {\n",
    "            head = newNode;\n",
    "        } else {\n",
    "            Node current = head;\n",
    "            while (current.next != null) {\n",
    "                current = current.next;\n",
    "            }\n",
    "            current.next = newNode;\n",
    "        }\n",
    "    }\n",
    "\n",
    "    public void display() {\n",
    "        Node current = head;\n",
    "        while (current != null) {\n",
    "            System.out.print(current.data + \" \");\n",
    "            current = current.next;\n",
    "        }\n",
    "        System.out.println();\n",
    "    }\n",
    "}\n",
    "\n",
    "public class Main {\n",
    "    public static void main(String[] args) {\n",
    "        LinkedList list = new LinkedList();\n",
    "        list.add(1);\n",
    "        list.add(2);\n",
    "        list.add(3);\n",
    "        list.display(); // Output: 1 2 3\n",
    "    }\n",
    "}\n",
    "Main.main(null);"
   ]
  },
  {
   "cell_type": "markdown",
   "metadata": {},
   "source": [
    "In this example, each node contains an integer value (`data`) and a reference to the next node (`next`). The `LinkedList` class maintains a reference to the head of the list. The `add()` method inserts a new node at the end of the list, and the `display()` method prints the elements of the list."
   ]
  },
  {
   "cell_type": "markdown",
   "metadata": {},
   "source": [
    "After researching what linked lists were, the next step was to implement linked lists conceptually with sorting algorithms. Since we are going in depth with insertion sort, we will implement linked lists with insertion sort. Below is our demonstration of this:"
   ]
  },
  {
   "cell_type": "code",
   "execution_count": 7,
   "metadata": {
    "vscode": {
     "languageId": "java"
    }
   },
   "outputs": [
    {
     "name": "stdout",
     "output_type": "stream",
     "text": [
      "Before sorting:\n",
      "1 3 5 8 9 \n",
      "After sorting:\n",
      "1 3 5 8 9 \n"
     ]
    }
   ],
   "source": [
    "class Node {\n",
    "    int data;\n",
    "    Node next;\n",
    "\n",
    "    public Node(int data) {\n",
    "        this.data = data;\n",
    "        this.next = null;\n",
    "    }\n",
    "}\n",
    "\n",
    "class LinkedList {\n",
    "    Node head;\n",
    "\n",
    "    public LinkedList() {\n",
    "        this.head = null;\n",
    "    }\n",
    "\n",
    "    public void insert(int data) {\n",
    "        Node newNode = new Node(data);\n",
    "        if (head == null || head.data >= newNode.data) {\n",
    "            newNode.next = head;\n",
    "            head = newNode;\n",
    "        } else {\n",
    "            Node current = head;\n",
    "            while (current.next != null && current.next.data < newNode.data) {\n",
    "                current = current.next;\n",
    "            }\n",
    "            newNode.next = current.next;\n",
    "            current.next = newNode;\n",
    "        }\n",
    "    }\n",
    "\n",
    "    public void display() {\n",
    "        Node current = head;\n",
    "        while (current != null) {\n",
    "            System.out.print(current.data + \" \");\n",
    "            current = current.next;\n",
    "        }\n",
    "        System.out.println();\n",
    "    }\n",
    "\n",
    "    public void insertionSort() {\n",
    "        if (head == null || head.next == null)\n",
    "            return;\n",
    "\n",
    "        Node sortedList = null;\n",
    "        Node current = head;\n",
    "\n",
    "        while (current != null) {\n",
    "            Node next = current.next;\n",
    "            sortedList = sortedInsert(sortedList, current);\n",
    "            current = next;\n",
    "        }\n",
    "\n",
    "        head = sortedList;\n",
    "    }\n",
    "\n",
    "    private Node sortedInsert(Node sortedList, Node newNode) {\n",
    "        if (sortedList == null || sortedList.data >= newNode.data) {\n",
    "            newNode.next = sortedList;\n",
    "            return newNode;\n",
    "        } else {\n",
    "            Node current = sortedList;\n",
    "            while (current.next != null && current.next.data < newNode.data) {\n",
    "                current = current.next;\n",
    "            }\n",
    "            newNode.next = current.next;\n",
    "            current.next = newNode;\n",
    "            return sortedList;\n",
    "        }\n",
    "    }\n",
    "}\n",
    "\n",
    "public class Main {\n",
    "    public static void main(String[] args) {\n",
    "        LinkedList list = new LinkedList();\n",
    "        list.insert(5);\n",
    "        list.insert(3);\n",
    "        list.insert(8);\n",
    "        list.insert(1);\n",
    "        list.insert(9);\n",
    "\n",
    "        System.out.println(\"Before sorting:\");\n",
    "        list.display();\n",
    "\n",
    "        list.insertionSort();\n",
    "\n",
    "        System.out.println(\"After sorting:\");\n",
    "        list.display();\n",
    "    }\n",
    "}\n",
    "Main.main(null);"
   ]
  },
  {
   "cell_type": "markdown",
   "metadata": {},
   "source": [
    "This program demonstrates the insertion sort algorithm on a linked list. The `insert()` method is responsible for adding elements to the linked list, and the `insertionSort()` method implements the insertion sort algorithm. The `sortedInsert()` method inserts a node into a sorted sublist. Finally, the `display()` method is used to print the elements of the linked list before and after sorting."
   ]
  }
 ],
 "metadata": {
  "kernelspec": {
   "display_name": "Java",
   "language": "java",
   "name": "java"
  },
  "language_info": {
   "codemirror_mode": "java",
   "file_extension": ".jshell",
   "mimetype": "text/x-java-source",
   "name": "Java",
   "pygments_lexer": "java",
   "version": "17.0.8.1+1-Ubuntu-0ubuntu120.04"
  }
 },
 "nbformat": 4,
 "nbformat_minor": 2
}
