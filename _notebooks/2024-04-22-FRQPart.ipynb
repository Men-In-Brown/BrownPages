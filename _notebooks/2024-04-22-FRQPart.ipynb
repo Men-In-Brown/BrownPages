{
 "cells": [
  {
   "cell_type": "markdown",
   "metadata": {},
   "source": [
    "---\n",
    "toc: true \n",
    "comments: true \n",
    "layout: post \n",
    "title: Some of FRQ\n",
    "type: hacks \n",
    "courses: { csse: {week: 1}, csp: {week: 1, categories: [4.A]}, csa: {week: 0}, labnotebook: {week: 3} } \n",
    "---"
   ]
  },
  {
   "cell_type": "markdown",
   "metadata": {},
   "source": [
    "## 2022 FRQ Question 2\n",
    "\n",
    "The Book class is used to store information about a book. A partial Book class definition is shown.\n",
    "public class Book \n",
    "\n",
    "```\n",
    "{ \n",
    "/** The title of the book */ \n",
    "private String title; \n",
    "/** The price of the book */ \n",
    "private double price; \n",
    "/** Creates a new Book with given title and price */ \n",
    "public Book(String bookTitle, double bookPrice) \n",
    "{ /* implementation not shown */ } \n",
    "/** Returns the title of the book */ \n",
    "public String getTitle() \n",
    "{ return title; } \n",
    "/** Returns a string containing the title and price of the Book */ \n",
    "public String getBookInfo() \n",
    "{ \n",
    "return title + \"-\" + price; \n",
    "} \n",
    "// There may be instance variables, constructors, and methods that are not shown.\n",
    "} \n",
    "```\n",
    "\n",
    "You will write a class Textbook, which is a subclass of Book. A Textbook has an edition number, which is a positive integer used to identify different versions of the\n",
    "book. The getBookInfo method, when called on a Textbook, returns a string that also includes the edition information, as shown in the example.\n",
    "\n",
    "\n",
    "Information about the book title and price must be maintained in the Book class. Information about the edition must be maintained in the Textbook class. The Textbook class contains an additional method, canSubstituteFor, which returns true if\n",
    "a Textbook is a valid substitute for another Textbook and returns false otherwise. The current Textbook is a valid substitute for the Textbook referenced by the parameter of the canSubstituteFor method if the two Textbook objects have the same title and if the edition of the current Textbook is greater than or equal to the edition of the parameter."
   ]
  },
  {
   "cell_type": "markdown",
   "metadata": {},
   "source": [
    "## Point distribution\n",
    "\n",
    "- Correctly make Class with header and extends - 2\n",
    "- Calls super as the first line with the appropriate parameters - 1\n",
    "- Declares appropriate private instance variable - 1\n",
    "- Declares at least one required method and all declared headers are correct - \n",
    "- getEdition returns value of instance variable\n",
    "- canSubstituteFor determines whether true or false should be returned based on comparison of book titles and editions \n",
    "- getBookInfo calls super.getBookInfo\n",
    "- Constructs information string \n"
   ]
  },
  {
   "cell_type": "markdown",
   "metadata": {},
   "source": [
    "# Points to be careful on\n",
    "\n",
    "- Point for declaring class correctly (always a point), Point for declaring a constructor, use meaningful variable names, ensure constructor is in correct order, constructor must call super as first line. \n",
    "- Title and Price must be maintained in the book class according to problem, so super has to be used. Edition is specific to textbook, means it should be private and has to be correctly initialized outside of the constructor. Sometimes you get point if you correctly write at least one correct method header. \n",
    "- Super methods must use super <method>(). Make sure to identify if it's an inheritence problem or a normal class and ensure that your code would work with the examples provided.  "
   ]
  },
  {
   "cell_type": "code",
   "execution_count": null,
   "metadata": {
    "vscode": {
     "languageId": "plaintext"
    }
   },
   "outputs": [],
   "source": [
    "#"
   ]
  }
 ],
 "metadata": {
  "language_info": {
   "name": "python"
  }
 },
 "nbformat": 4,
 "nbformat_minor": 2
}
