{
 "cells": [
  {
   "cell_type": "markdown",
   "metadata": {},
   "source": [
    "---\n",
    "toc: true \n",
    "comments: true \n",
    "layout: post \n",
    "title: Some of FRQ\n",
    "type: hacks \n",
    "courses: { csse: {week: 1}, csp: {week: 1, categories: [4.A]}, csa: {week: 0}, labnotebook: {week: 3} } \n",
    "---"
   ]
  },
  {
   "cell_type": "markdown",
   "metadata": {},
   "source": [
    "## 2022 FRQ Question 2\n",
    "\n",
    "The Book class is used to store information about a book. A partial Book class definition is shown.\n"
   ]
  },
  {
   "cell_type": "code",
   "execution_count": 14,
   "metadata": {
    "vscode": {
     "languageId": "java"
    }
   },
   "outputs": [],
   "source": [
    "public class Book\n",
    "{ \n",
    "    /** The title of the book */ \n",
    "    private String title; \n",
    "\n",
    "    /** The price of the book */ \n",
    "    private double price; \n",
    "\n",
    "    /** Creates a new Book with given title and price */ \n",
    "    public Book(String bookTitle, double bookPrice) \n",
    "    { /* implementation not shown */ } \n",
    "\n",
    "    /** Returns the title of the book */ \n",
    "    public String getTitle() \n",
    "    { \n",
    "        return title; \n",
    "    } \n",
    "    \n",
    "    /** Returns a string containing the title and price of the Book */ \n",
    "    public String getBookInfo() \n",
    "    { \n",
    "        return title + \"-\" + price; \n",
    "    } \n",
    "\n",
    "    // There may be instance variables, constructors, and methods that are not shown.\n",
    "} "
   ]
  },
  {
   "cell_type": "markdown",
   "metadata": {},
   "source": [
    "\n",
    "You will write a class Textbook, which is a subclass of Book. A Textbook has an edition number, which is a positive integer used to identify different versions of the\n",
    "book. The getBookInfo method, when called on a Textbook, returns a string that also includes the edition information, as shown in the example.\n",
    "\n",
    "\n",
    "Information about the book title and price must be maintained in the Book class. Information about the edition must be maintained in the Textbook class. The Textbook class contains an additional method, canSubstituteFor, which returns true if\n",
    "a Textbook is a valid substitute for another Textbook and returns false otherwise. The current Textbook is a valid substitute for the Textbook referenced by the parameter of the canSubstituteFor method if the two Textbook objects have the same title and if the edition of the current Textbook is greater than or equal to the edition of the parameter."
   ]
  },
  {
   "cell_type": "markdown",
   "metadata": {},
   "source": [
    "## Point distribution\n",
    "\n",
    "- Correctly make Class with header and extends - 2\n",
    "- Calls super as the first line with the appropriate parameters - 1\n",
    "- Declares appropriate private instance variable - 1\n",
    "- Declares at least one required method and all declared headers are correct - \n",
    "- getEdition returns value of instance variable\n",
    "- canSubstituteFor determines whether true or false should be returned based on comparison of book titles and editions \n",
    "- getBookInfo calls super.getBookInfo\n",
    "- Constructs information string \n"
   ]
  },
  {
   "cell_type": "markdown",
   "metadata": {},
   "source": [
    "# Points to be careful on\n",
    "\n",
    "- Point for declaring class correctly (always a point), Point for declaring a constructor, use meaningful variable names, ensure constructor is in correct order, constructor must call super as first line. \n",
    "- Title and Price must be maintained in the book class according to problem, so super has to be used. Edition is specific to textbook, means it should be private and has to be correctly initialized outside of the constructor. Sometimes you get point if you correctly write at least one correct method header. \n",
    "- Super methods must use super <method>(). Make sure to identify if it's an inheritence problem or a normal class and ensure that your code would work with the examples provided.  "
   ]
  },
  {
   "cell_type": "markdown",
   "metadata": {},
   "source": [
    "## Example solution\n"
   ]
  },
  {
   "cell_type": "code",
   "execution_count": 12,
   "metadata": {
    "vscode": {
     "languageId": "java"
    }
   },
   "outputs": [],
   "source": [
    "public class Textbook extends Book\n",
    "{\n",
    "    //private instance variable for edition number\n",
    "    private int edition;\n",
    "\n",
    "    //full constructor must have String, double, int matches the examples given in table\n",
    "    public Textbook(String t, double p, int e)\n",
    "    {\n",
    "        //must be first: let Book manage its variables\n",
    "        super(t, p);\n",
    "\n",
    "        //instance variable on left, parameter on right\n",
    "        this.edition = e;\n",
    "    }\n",
    "\n",
    "    //basic accessor method, note: only need getEdition because Book manages the others\n",
    "    public int getEdition()\n",
    "    {\n",
    "        return edition;\n",
    "    }\n",
    "\n",
    "    //similar to toString: all data returned nicely formatted\n",
    "    public String getBookInfo()\n",
    "    {\n",
    "        //need to use the method from Book to get the title and price, then concatenate the edition\n",
    "        return super.getBookInfo() + \"-\" + edition;\n",
    "    }\n",
    "\n",
    "    //similar to equals: compare the two data pieces\n",
    "    public boolean canSubstituteFor(Textbook other)\n",
    "    {\n",
    "        //titles are equals and edition is >= to other's\n",
    "        return this.getTitle().equals(other.getTitle()) &&\n",
    "        this.getEdition() >= other.getEdition();\n",
    "    }\n",
    "}"
   ]
  },
  {
   "cell_type": "markdown",
   "metadata": {},
   "source": [
    "## Key Components\n",
    "\n",
    "1. **Class Header**:\n",
    "   - `public class Textbook extends Book`: Declares the class header.\n",
    "\n",
    "2. **Instance Variable**:\n",
    "    - `private int edition`: This variable stores the edition number of the textbook.\n",
    "\n",
    "3. **Constructor**:\n",
    "    - `public Textbook(String t, double p, int e)`: This is the constructor method for the `Textbook` class. It takes three parameters: a `String` for the title (`t`), a `double` for the price (`p`), and an `int` for the edition (`e`)\n",
    "    - It initializes the instance variables of the `Textbook` class using the `super` keyword to call the constructor of the superclass `Book`, passing the title and price\n",
    "    - Then, it sets the `edition` instance variable to the value provided.\n",
    "\n",
    "4. **Accessor Method**:\n",
    "    - `public int getEdition()`: This method returns the edition number of the textbook.\n",
    "\n",
    "5. **Other Methods**:\n",
    "    - `public String getBookInfo()`: This method returns a string containing information about the textbook\n",
    "    - It calls the `getBookInfo()` method of the superclass `Book` to get the title and price, and then appends the edition number to it.\n",
    "    - `public boolean canSubstituteFor(Textbook other)`: This method checks if the current textbook can substitute another textbook (`other`)\n",
    "      - It returns `true` if the titles are equal and if the edition of the current textbook is greater than or equal to the edition of the other textbook.\n",
    "  \n",
    "\n",
    "\n",
    "### ** It is not required to include a main method in the code as not required by scoring guidelines **"
   ]
  },
  {
   "cell_type": "markdown",
   "metadata": {},
   "source": [
    "## Connection to larger topic "
   ]
  }
 ],
 "metadata": {
  "kernelspec": {
   "display_name": "Java",
   "language": "java",
   "name": "java"
  },
  "language_info": {
   "codemirror_mode": "java",
   "file_extension": ".jshell",
   "mimetype": "text/x-java-source",
   "name": "Java",
   "pygments_lexer": "java",
   "version": "20.0.1"
  }
 },
 "nbformat": 4,
 "nbformat_minor": 2
}
